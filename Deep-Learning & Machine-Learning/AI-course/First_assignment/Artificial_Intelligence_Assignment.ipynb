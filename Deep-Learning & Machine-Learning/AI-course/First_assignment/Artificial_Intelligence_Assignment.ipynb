{
 "cells": [
  {
   "cell_type": "markdown",
   "id": "ca1bb811",
   "metadata": {},
   "source": [
    "# Artificial Intelligence and Expert Systems Group 3 - STUDENTS\n"
   ]
  },
  {
   "cell_type": "markdown",
   "id": "8fc83dab",
   "metadata": {},
   "source": [
    "# Importing the DATA and the Libraries"
   ]
  },
  {
   "cell_type": "code",
   "execution_count": 1,
   "id": "4b7d413a",
   "metadata": {},
   "outputs": [],
   "source": [
    "from sklearn.linear_model import LinearRegression, Ridge, RidgeCV, Lasso, LassoCV\n",
    "from sklearn.model_selection import train_test_split\n",
    "from sklearn.metrics import mean_absolute_error as mea\n",
    "from sklearn.model_selection import cross_val_score, KFold\n",
    "from sklearn.preprocessing import scale\n",
    "from sklearn.metrics import r2_score\n",
    "from sklearn.preprocessing import Normalizer, MinMaxScaler, StandardScaler, PolynomialFeatures\n",
    "kf5 = KFold(n_splits=5, shuffle=True)"
   ]
  },
  {
   "cell_type": "code",
   "execution_count": 2,
   "id": "966a1bb3",
   "metadata": {},
   "outputs": [],
   "source": [
    "import pandas as pd\n",
    "from matplotlib import pyplot as plt\n",
    "import numpy as np\n",
    "\n",
    "df = pd.read_excel(\"C:/Users/Semih/Desktop/OKUL/END_AI/data/training_data.xlsx\")\n",
    "df_test = pd.read_excel(\"C:/Users/Semih/Desktop/OKUL/END_AI/data/test_data_excel.xlsx\")\n",
    "X_normal = df.loc[:, df.columns[1:]]\n",
    "Y_normal = df.loc[:, df.columns[0]]"
   ]
  },
  {
   "cell_type": "code",
   "execution_count": 3,
   "id": "98cf6eaa",
   "metadata": {},
   "outputs": [],
   "source": [
    "# I am going to split my data as 80% training and 20% test\n",
    "X_train, X_test, Y_train, Y_test = train_test_split(X_normal, Y_normal, test_size=0.2, random_state=34)"
   ]
  },
  {
   "cell_type": "code",
   "execution_count": 4,
   "id": "ac5b7f95",
   "metadata": {},
   "outputs": [],
   "source": [
    "errors = {\"first\":0,\n",
    "         \"second\":0,\n",
    "         \"third\":0,\n",
    "         \"fourth\":0,\n",
    "         \"fifth\":0}\n",
    "cv_errors = {\"first\":0,\n",
    "         \"second\":0,\n",
    "         \"third\":0,\n",
    "         \"fourth\":0,\n",
    "         \"fifth\":0}"
   ]
  },
  {
   "cell_type": "markdown",
   "id": "aeae240b",
   "metadata": {},
   "source": [
    "### Turn Categorical DATAS into Numerical DATAS"
   ]
  },
  {
   "cell_type": "markdown",
   "id": "7fed2cfe",
   "metadata": {},
   "source": [
    "# Approach\n",
    "We believe that there is a relation between the same categorical datas such as shift types of manual and auto and other such categories. Because of that, we decided to use ordinal encoding for categorical data rather than using one-hot encoding which is based on the unrelated data."
   ]
  },
  {
   "cell_type": "code",
   "execution_count": 5,
   "id": "065ca2b9",
   "metadata": {
    "scrolled": true
   },
   "outputs": [],
   "source": [
    "# ordinal numeric values\n",
    "Types = {\"LPG\":1,\n",
    "         \"Diesel\":2,\n",
    "        \"Gasoline\":3}\n",
    "\n",
    "Shifts = {\"Manual\":1,\n",
    "         \"Auto\":2}\n",
    "\n",
    "Sellers = {\"Owner\":1,\n",
    "          \"Dealer\":2}\n",
    "\n",
    "# I may still use the normal data\n",
    "X_normal[\"Type\"] = X_normal.Type.replace(Types)\n",
    "X_normal[\"Shift\"] = X_normal.Shift.replace(Shifts)\n",
    "X_normal[\"Seller\"] = X_normal.Seller.replace(Sellers)\n",
    "\n",
    "X_train[\"Type\"] = X_normal.Type.replace(Types)\n",
    "X_train[\"Shift\"] = X_normal.Shift.replace(Shifts)\n",
    "X_train[\"Seller\"] = X_normal.Seller.replace(Sellers)\n",
    "\n",
    "X_test[\"Type\"] = X_normal.Type.replace(Types)\n",
    "X_test[\"Shift\"] = X_normal.Shift.replace(Shifts)\n",
    "X_test[\"Seller\"] = X_normal.Seller.replace(Sellers)\n",
    "\n",
    "df_test[\"Type\"] = df_test.Type.replace(Types)\n",
    "df_test[\"Shift\"] = df_test.Shift.replace(Shifts)\n",
    "df_test[\"Seller\"] = df_test.Seller.replace(Sellers)"
   ]
  },
  {
   "cell_type": "markdown",
   "id": "bc880b8e",
   "metadata": {},
   "source": [
    "# Understand the DATA"
   ]
  },
  {
   "cell_type": "code",
   "execution_count": 6,
   "id": "fdcc2c0a",
   "metadata": {},
   "outputs": [
    {
     "name": "stdout",
     "output_type": "stream",
     "text": [
      "Year: \n"
     ]
    },
    {
     "data": {
      "image/png": "[encoded data removed]",
      "text/plain": [
       "<Figure size 432x288 with 1 Axes>"
      ]
     },
     "metadata": {
      "needs_background": "light"
     },
     "output_type": "display_data"
    },
    {
     "name": "stdout",
     "output_type": "stream",
     "text": [
      "Type: \n"
     ]
    },
    {
     "data": {
      "image/png": "[encoded data removed]",
      "text/plain": [
       "<Figure size 432x288 with 1 Axes>"
      ]
     },
     "metadata": {
      "needs_background": "light"
     },
     "output_type": "display_data"
    },
    {
     "name": "stdout",
     "output_type": "stream",
     "text": [
      "Shift: \n"
     ]
    },
    {
     "data": {
      "image/png": "[encoded data removed]",
      "text/plain": [
       "<Figure size 432x288 with 1 Axes>"
      ]
     },
     "metadata": {
      "needs_background": "light"
     },
     "output_type": "display_data"
    },
    {
     "name": "stdout",
     "output_type": "stream",
     "text": [
      "km: \n"
     ]
    },
    {
     "data": {
      "image/png": "[encoded data removed]",
      "text/plain": [
       "<Figure size 432x288 with 1 Axes>"
      ]
     },
     "metadata": {
      "needs_background": "light"
     },
     "output_type": "display_data"
    },
    {
     "name": "stdout",
     "output_type": "stream",
     "text": [
      "Power: \n"
     ]
    },
    {
     "data": {
      "image/png": "[encoded data removed]",
      "text/plain": [
       "<Figure size 432x288 with 1 Axes>"
      ]
     },
     "metadata": {
      "needs_background": "light"
     },
     "output_type": "display_data"
    },
    {
     "name": "stdout",
     "output_type": "stream",
     "text": [
      "Engine: \n"
     ]
    },
    {
     "data": {
      "image/png": "[encoded data removed]",
      "text/plain": [
       "<Figure size 432x288 with 1 Axes>"
      ]
     },
     "metadata": {
      "needs_background": "light"
     },
     "output_type": "display_data"
    },
    {
     "name": "stdout",
     "output_type": "stream",
     "text": [
      "Seller: \n"
     ]
    },
    {
     "data": {
      "image/png": "[encoded data removed]",
      "text/plain": [
       "<Figure size 432x288 with 1 Axes>"
      ]
     },
     "metadata": {
      "needs_background": "light"
     },
     "output_type": "display_data"
    }
   ],
   "source": [
    "for col in X_normal.columns:\n",
    "    print(f\"{col}: \")\n",
    "    plt.boxplot(X_normal[col])\n",
    "    plt.show()"
   ]
  },
  {
   "cell_type": "code",
   "execution_count": 7,
   "id": "146a17db",
   "metadata": {},
   "outputs": [
    {
     "name": "stdout",
     "output_type": "stream",
     "text": [
      "Year: \n"
     ]
    },
    {
     "data": {
      "image/png": "[encoded data removed]",
      "text/plain": [
       "<Figure size 432x288 with 1 Axes>"
      ]
     },
     "metadata": {
      "needs_background": "light"
     },
     "output_type": "display_data"
    },
    {
     "name": "stdout",
     "output_type": "stream",
     "text": [
      "Type: \n"
     ]
    },
    {
     "data": {
      "image/png": "[encoded data removed]",
      "text/plain": [
       "<Figure size 432x288 with 1 Axes>"
      ]
     },
     "metadata": {
      "needs_background": "light"
     },
     "output_type": "display_data"
    },
    {
     "name": "stdout",
     "output_type": "stream",
     "text": [
      "Shift: \n"
     ]
    },
    {
     "data": {
      "image/png": "[encoded data removed]",
      "text/plain": [
       "<Figure size 432x288 with 1 Axes>"
      ]
     },
     "metadata": {
      "needs_background": "light"
     },
     "output_type": "display_data"
    },
    {
     "name": "stdout",
     "output_type": "stream",
     "text": [
      "km: \n"
     ]
    },
    {
     "data": {
      "image/png": "[encoded data removed]",
      "text/plain": [
       "<Figure size 432x288 with 1 Axes>"
      ]
     },
     "metadata": {
      "needs_background": "light"
     },
     "output_type": "display_data"
    },
    {
     "name": "stdout",
     "output_type": "stream",
     "text": [
      "Power: \n"
     ]
    },
    {
     "data": {
      "image/png": "[encoded data removed]",
      "text/plain": [
       "<Figure size 432x288 with 1 Axes>"
      ]
     },
     "metadata": {
      "needs_background": "light"
     },
     "output_type": "display_data"
    },
    {
     "name": "stdout",
     "output_type": "stream",
     "text": [
      "Engine: \n"
     ]
    },
    {
     "data": {
      "image/png": "[encoded data removed]",
      "text/plain": [
       "<Figure size 432x288 with 1 Axes>"
      ]
     },
     "metadata": {
      "needs_background": "light"
     },
     "output_type": "display_data"
    },
    {
     "name": "stdout",
     "output_type": "stream",
     "text": [
      "Seller: \n"
     ]
    },
    {
     "data": {
      "image/png": "[encoded data removed]",
      "text/plain": [
       "<Figure size 432x288 with 1 Axes>"
      ]
     },
     "metadata": {
      "needs_background": "light"
     },
     "output_type": "display_data"
    }
   ],
   "source": [
    "for col in X_normal.columns:\n",
    "    print(f\"{col}: \")\n",
    "    plt.scatter(range(len(X_normal[col])), X_normal[col])\n",
    "    plt.show()"
   ]
  },
  {
   "cell_type": "code",
   "execution_count": 8,
   "id": "4e976923",
   "metadata": {
    "scrolled": true
   },
   "outputs": [
    {
     "data": {
      "text/plain": [
       "Year          5.927166\n",
       "Type          0.767547\n",
       "Shift         0.469287\n",
       "km        71857.402430\n",
       "Power        15.425954\n",
       "Engine      101.215621\n",
       "Seller        0.495999\n",
       "dtype: float64"
      ]
     },
     "execution_count": 8,
     "metadata": {},
     "output_type": "execute_result"
    }
   ],
   "source": [
    "X_normal.std()"
   ]
  },
  {
   "cell_type": "code",
   "execution_count": 9,
   "id": "374ab63e",
   "metadata": {},
   "outputs": [
    {
     "name": "stdout",
     "output_type": "stream",
     "text": [
      "Diesel type mean price:  34954.353099730455\n",
      "Gasoline type mean price:  40629.235657546335\n",
      "LPG mean type price:  26817.634556574925\n"
     ]
    }
   ],
   "source": [
    "print(\"Diesel type mean price: \", df.Price.loc[df.Type == \"Diesel\"].mean())\n",
    "print(\"Gasoline type mean price: \", df.Price.loc[df.Type == \"Gasoline\"].mean())\n",
    "print(\"LPG mean type price: \", df.Price.loc[df.Type == \"LPG\"].mean())"
   ]
  },
  {
   "cell_type": "code",
   "execution_count": 10,
   "id": "6cc0b47a",
   "metadata": {},
   "outputs": [
    {
     "name": "stdout",
     "output_type": "stream",
     "text": [
      "Manual shift type mean price:  32074.440287032292\n",
      "Auto shift mean price:  42042.80189673341\n"
     ]
    }
   ],
   "source": [
    "print(\"Manual shift type mean price: \", df.Price.loc[df.Shift == \"Manual\"].mean())\n",
    "print(\"Auto shift mean price: \", df.Price.loc[df.Shift == \"Auto\"].mean())"
   ]
  },
  {
   "cell_type": "code",
   "execution_count": 11,
   "id": "f8061ba3",
   "metadata": {},
   "outputs": [
    {
     "name": "stdout",
     "output_type": "stream",
     "text": [
      "Owner shift type mean price:  33756.13639143731\n",
      "Dealler shift mean price:  37379.10592885376\n"
     ]
    }
   ],
   "source": [
    "print(\"Owner shift type mean price: \", df.Price.loc[df.Seller == \"Owner\"].mean())\n",
    "print(\"Dealler shift mean price: \", df.Price.loc[df.Seller == \"Dealer\"].mean())"
   ]
  },
  {
   "cell_type": "code",
   "execution_count": 12,
   "id": "a0142aff",
   "metadata": {},
   "outputs": [
    {
     "data": {
      "text/html": [
       "<div>\n",
       "<style scoped>\n",
       "    .dataframe tbody tr th:only-of-type {\n",
       "        vertical-align: middle;\n",
       "    }\n",
       "\n",
       "    .dataframe tbody tr th {\n",
       "        vertical-align: top;\n",
       "    }\n",
       "\n",
       "    .dataframe thead th {\n",
       "        text-align: right;\n",
       "    }\n",
       "</style>\n",
       "<table border=\"1\" class=\"dataframe\">\n",
       "  <thead>\n",
       "    <tr style=\"text-align: right;\">\n",
       "      <th></th>\n",
       "      <th>Year</th>\n",
       "      <th>Type</th>\n",
       "      <th>Shift</th>\n",
       "      <th>km</th>\n",
       "      <th>Power</th>\n",
       "      <th>Engine</th>\n",
       "      <th>Seller</th>\n",
       "    </tr>\n",
       "  </thead>\n",
       "  <tbody>\n",
       "    <tr>\n",
       "      <th>0</th>\n",
       "      <td>2004</td>\n",
       "      <td>2</td>\n",
       "      <td>1</td>\n",
       "      <td>270000</td>\n",
       "      <td>70</td>\n",
       "      <td>1248</td>\n",
       "      <td>2</td>\n",
       "    </tr>\n",
       "    <tr>\n",
       "      <th>1</th>\n",
       "      <td>2004</td>\n",
       "      <td>3</td>\n",
       "      <td>1</td>\n",
       "      <td>164000</td>\n",
       "      <td>75</td>\n",
       "      <td>1199</td>\n",
       "      <td>2</td>\n",
       "    </tr>\n",
       "    <tr>\n",
       "      <th>2</th>\n",
       "      <td>2008</td>\n",
       "      <td>2</td>\n",
       "      <td>2</td>\n",
       "      <td>300000</td>\n",
       "      <td>90</td>\n",
       "      <td>1248</td>\n",
       "      <td>2</td>\n",
       "    </tr>\n",
       "    <tr>\n",
       "      <th>3</th>\n",
       "      <td>2017</td>\n",
       "      <td>3</td>\n",
       "      <td>2</td>\n",
       "      <td>8780</td>\n",
       "      <td>90</td>\n",
       "      <td>1398</td>\n",
       "      <td>2</td>\n",
       "    </tr>\n",
       "    <tr>\n",
       "      <th>4</th>\n",
       "      <td>2004</td>\n",
       "      <td>2</td>\n",
       "      <td>1</td>\n",
       "      <td>200000</td>\n",
       "      <td>70</td>\n",
       "      <td>1248</td>\n",
       "      <td>1</td>\n",
       "    </tr>\n",
       "    <tr>\n",
       "      <th>5</th>\n",
       "      <td>2003</td>\n",
       "      <td>2</td>\n",
       "      <td>1</td>\n",
       "      <td>130000</td>\n",
       "      <td>76</td>\n",
       "      <td>1601</td>\n",
       "      <td>2</td>\n",
       "    </tr>\n",
       "    <tr>\n",
       "      <th>6</th>\n",
       "      <td>2011</td>\n",
       "      <td>2</td>\n",
       "      <td>1</td>\n",
       "      <td>197000</td>\n",
       "      <td>75</td>\n",
       "      <td>1248</td>\n",
       "      <td>2</td>\n",
       "    </tr>\n",
       "    <tr>\n",
       "      <th>7</th>\n",
       "      <td>2000</td>\n",
       "      <td>3</td>\n",
       "      <td>1</td>\n",
       "      <td>169000</td>\n",
       "      <td>65</td>\n",
       "      <td>1199</td>\n",
       "      <td>2</td>\n",
       "    </tr>\n",
       "    <tr>\n",
       "      <th>8</th>\n",
       "      <td>2007</td>\n",
       "      <td>3</td>\n",
       "      <td>2</td>\n",
       "      <td>97000</td>\n",
       "      <td>76</td>\n",
       "      <td>1201</td>\n",
       "      <td>1</td>\n",
       "    </tr>\n",
       "    <tr>\n",
       "      <th>9</th>\n",
       "      <td>1999</td>\n",
       "      <td>1</td>\n",
       "      <td>1</td>\n",
       "      <td>221000</td>\n",
       "      <td>90</td>\n",
       "      <td>1389</td>\n",
       "      <td>1</td>\n",
       "    </tr>\n",
       "    <tr>\n",
       "      <th>10</th>\n",
       "      <td>2004</td>\n",
       "      <td>1</td>\n",
       "      <td>2</td>\n",
       "      <td>80000</td>\n",
       "      <td>75</td>\n",
       "      <td>1199</td>\n",
       "      <td>2</td>\n",
       "    </tr>\n",
       "    <tr>\n",
       "      <th>11</th>\n",
       "      <td>2010</td>\n",
       "      <td>3</td>\n",
       "      <td>2</td>\n",
       "      <td>53000</td>\n",
       "      <td>76</td>\n",
       "      <td>1200</td>\n",
       "      <td>2</td>\n",
       "    </tr>\n",
       "  </tbody>\n",
       "</table>\n",
       "</div>"
      ],
      "text/plain": [
       "    Year  Type  Shift      km  Power  Engine  Seller\n",
       "0   2004     2      1  270000     70    1248       2\n",
       "1   2004     3      1  164000     75    1199       2\n",
       "2   2008     2      2  300000     90    1248       2\n",
       "3   2017     3      2    8780     90    1398       2\n",
       "4   2004     2      1  200000     70    1248       1\n",
       "5   2003     2      1  130000     76    1601       2\n",
       "6   2011     2      1  197000     75    1248       2\n",
       "7   2000     3      1  169000     65    1199       2\n",
       "8   2007     3      2   97000     76    1201       1\n",
       "9   1999     1      1  221000     90    1389       1\n",
       "10  2004     1      2   80000     75    1199       2\n",
       "11  2010     3      2   53000     76    1200       2"
      ]
     },
     "execution_count": 12,
     "metadata": {},
     "output_type": "execute_result"
    }
   ],
   "source": [
    "X_normal.head(12)"
   ]
  },
  {
   "cell_type": "markdown",
   "id": "b9b30d99",
   "metadata": {},
   "source": [
    "## For which data part, what kind of scaling approach to be applied\n",
    "Year <b>minmax</b>,   \n",
    "Type <b>no need</b>,\n",
    "Shift <b>no need</b>,\n",
    "km <b>minmax</b>,\n",
    "Power <b>minmax</b>,\n",
    "Engine <b>minmax</b>,\n",
    "Seller <b>no need</b>"
   ]
  },
  {
   "cell_type": "code",
   "execution_count": 13,
   "id": "cb4f96cb",
   "metadata": {},
   "outputs": [
    {
     "data": {
      "text/html": [
       "<div>\n",
       "<style scoped>\n",
       "    .dataframe tbody tr th:only-of-type {\n",
       "        vertical-align: middle;\n",
       "    }\n",
       "\n",
       "    .dataframe tbody tr th {\n",
       "        vertical-align: top;\n",
       "    }\n",
       "\n",
       "    .dataframe thead th {\n",
       "        text-align: right;\n",
       "    }\n",
       "</style>\n",
       "<table border=\"1\" class=\"dataframe\">\n",
       "  <thead>\n",
       "    <tr style=\"text-align: right;\">\n",
       "      <th></th>\n",
       "      <th>Year</th>\n",
       "      <th>km</th>\n",
       "      <th>Power</th>\n",
       "      <th>Engine</th>\n",
       "    </tr>\n",
       "  </thead>\n",
       "  <tbody>\n",
       "    <tr>\n",
       "      <th>0</th>\n",
       "      <td>2004</td>\n",
       "      <td>270000</td>\n",
       "      <td>70</td>\n",
       "      <td>1248</td>\n",
       "    </tr>\n",
       "    <tr>\n",
       "      <th>1</th>\n",
       "      <td>2004</td>\n",
       "      <td>164000</td>\n",
       "      <td>75</td>\n",
       "      <td>1199</td>\n",
       "    </tr>\n",
       "    <tr>\n",
       "      <th>2</th>\n",
       "      <td>2008</td>\n",
       "      <td>300000</td>\n",
       "      <td>90</td>\n",
       "      <td>1248</td>\n",
       "    </tr>\n",
       "    <tr>\n",
       "      <th>3</th>\n",
       "      <td>2017</td>\n",
       "      <td>8780</td>\n",
       "      <td>90</td>\n",
       "      <td>1398</td>\n",
       "    </tr>\n",
       "    <tr>\n",
       "      <th>4</th>\n",
       "      <td>2004</td>\n",
       "      <td>200000</td>\n",
       "      <td>70</td>\n",
       "      <td>1248</td>\n",
       "    </tr>\n",
       "    <tr>\n",
       "      <th>...</th>\n",
       "      <td>...</td>\n",
       "      <td>...</td>\n",
       "      <td>...</td>\n",
       "      <td>...</td>\n",
       "    </tr>\n",
       "    <tr>\n",
       "      <th>2895</th>\n",
       "      <td>1993</td>\n",
       "      <td>187000</td>\n",
       "      <td>76</td>\n",
       "      <td>1201</td>\n",
       "    </tr>\n",
       "    <tr>\n",
       "      <th>2896</th>\n",
       "      <td>2009</td>\n",
       "      <td>68500</td>\n",
       "      <td>80</td>\n",
       "      <td>1229</td>\n",
       "    </tr>\n",
       "    <tr>\n",
       "      <th>2897</th>\n",
       "      <td>2012</td>\n",
       "      <td>142257</td>\n",
       "      <td>100</td>\n",
       "      <td>1364</td>\n",
       "    </tr>\n",
       "    <tr>\n",
       "      <th>2898</th>\n",
       "      <td>2010</td>\n",
       "      <td>135000</td>\n",
       "      <td>90</td>\n",
       "      <td>1248</td>\n",
       "    </tr>\n",
       "    <tr>\n",
       "      <th>2899</th>\n",
       "      <td>2014</td>\n",
       "      <td>131500</td>\n",
       "      <td>75</td>\n",
       "      <td>1248</td>\n",
       "    </tr>\n",
       "  </tbody>\n",
       "</table>\n",
       "<p>2900 rows × 4 columns</p>\n",
       "</div>"
      ],
      "text/plain": [
       "      Year      km  Power  Engine\n",
       "0     2004  270000     70    1248\n",
       "1     2004  164000     75    1199\n",
       "2     2008  300000     90    1248\n",
       "3     2017    8780     90    1398\n",
       "4     2004  200000     70    1248\n",
       "...    ...     ...    ...     ...\n",
       "2895  1993  187000     76    1201\n",
       "2896  2009   68500     80    1229\n",
       "2897  2012  142257    100    1364\n",
       "2898  2010  135000     90    1248\n",
       "2899  2014  131500     75    1248\n",
       "\n",
       "[2900 rows x 4 columns]"
      ]
     },
     "execution_count": 13,
     "metadata": {},
     "output_type": "execute_result"
    }
   ],
   "source": [
    "X_normal[[\"Year\", \"km\", \"Power\", \"Engine\"]]"
   ]
  },
  {
   "cell_type": "code",
   "execution_count": 14,
   "id": "c8f9e16b",
   "metadata": {},
   "outputs": [
    {
     "name": "stdout",
     "output_type": "stream",
     "text": [
      "[3.70370370e-02 2.17391304e-06 5.52486188e-03 1.20772947e-03]\n"
     ]
    }
   ],
   "source": [
    "# min max scaler\n",
    "X_normal[[\"Year\", \"km\", \"Power\", \"Engine\"]] = MinMaxScaler().fit_transform(X_normal[[\"Year\", \"km\", \"Power\", \"Engine\"]])\n",
    "\n",
    "min_max_scaler2 = MinMaxScaler()\n",
    "X_train[[\"Year\", \"km\", \"Power\", \"Engine\"]] = min_max_scaler2.fit_transform(X_train[[\"Year\", \"km\", \"Power\", \"Engine\"]])\n",
    "print(min_max_scaler2.scale_)\n",
    "X_test[[\"Year\", \"km\", \"Power\", \"Engine\"]] = min_max_scaler2.transform(X_test[[\"Year\", \"km\", \"Power\", \"Engine\"]])\n",
    "df_test[[\"Year\", \"km\", \"Power\", \"Engine\"]] = min_max_scaler2.transform(df_test[[\"Year\", \"km\", \"Power\", \"Engine\"]])"
   ]
  },
  {
   "cell_type": "code",
   "execution_count": 15,
   "id": "4457d9a3",
   "metadata": {},
   "outputs": [
    {
     "data": {
      "text/html": [
       "<div>\n",
       "<style scoped>\n",
       "    .dataframe tbody tr th:only-of-type {\n",
       "        vertical-align: middle;\n",
       "    }\n",
       "\n",
       "    .dataframe tbody tr th {\n",
       "        vertical-align: top;\n",
       "    }\n",
       "\n",
       "    .dataframe thead th {\n",
       "        text-align: right;\n",
       "    }\n",
       "</style>\n",
       "<table border=\"1\" class=\"dataframe\">\n",
       "  <thead>\n",
       "    <tr style=\"text-align: right;\">\n",
       "      <th></th>\n",
       "      <th>Year</th>\n",
       "      <th>Type</th>\n",
       "      <th>Shift</th>\n",
       "      <th>km</th>\n",
       "      <th>Power</th>\n",
       "      <th>Engine</th>\n",
       "      <th>Seller</th>\n",
       "    </tr>\n",
       "  </thead>\n",
       "  <tbody>\n",
       "    <tr>\n",
       "      <th>1922</th>\n",
       "      <td>0.851852</td>\n",
       "      <td>2</td>\n",
       "      <td>1</td>\n",
       "      <td>0.282609</td>\n",
       "      <td>0.165746</td>\n",
       "      <td>0.332126</td>\n",
       "      <td>2</td>\n",
       "    </tr>\n",
       "    <tr>\n",
       "      <th>127</th>\n",
       "      <td>0.592593</td>\n",
       "      <td>2</td>\n",
       "      <td>2</td>\n",
       "      <td>0.363043</td>\n",
       "      <td>0.138122</td>\n",
       "      <td>0.332126</td>\n",
       "      <td>1</td>\n",
       "    </tr>\n",
       "    <tr>\n",
       "      <th>1113</th>\n",
       "      <td>0.296296</td>\n",
       "      <td>3</td>\n",
       "      <td>1</td>\n",
       "      <td>0.308696</td>\n",
       "      <td>0.248619</td>\n",
       "      <td>0.502415</td>\n",
       "      <td>1</td>\n",
       "    </tr>\n",
       "    <tr>\n",
       "      <th>2303</th>\n",
       "      <td>0.518519</td>\n",
       "      <td>3</td>\n",
       "      <td>1</td>\n",
       "      <td>0.306522</td>\n",
       "      <td>0.082873</td>\n",
       "      <td>0.030193</td>\n",
       "      <td>1</td>\n",
       "    </tr>\n",
       "    <tr>\n",
       "      <th>581</th>\n",
       "      <td>0.370370</td>\n",
       "      <td>3</td>\n",
       "      <td>1</td>\n",
       "      <td>0.461957</td>\n",
       "      <td>0.110497</td>\n",
       "      <td>0.272947</td>\n",
       "      <td>1</td>\n",
       "    </tr>\n",
       "    <tr>\n",
       "      <th>2792</th>\n",
       "      <td>0.333333</td>\n",
       "      <td>1</td>\n",
       "      <td>2</td>\n",
       "      <td>0.510870</td>\n",
       "      <td>0.248619</td>\n",
       "      <td>0.502415</td>\n",
       "      <td>1</td>\n",
       "    </tr>\n",
       "    <tr>\n",
       "      <th>1918</th>\n",
       "      <td>0.740741</td>\n",
       "      <td>3</td>\n",
       "      <td>1</td>\n",
       "      <td>0.184783</td>\n",
       "      <td>0.193370</td>\n",
       "      <td>0.309179</td>\n",
       "      <td>2</td>\n",
       "    </tr>\n",
       "    <tr>\n",
       "      <th>561</th>\n",
       "      <td>0.518519</td>\n",
       "      <td>2</td>\n",
       "      <td>1</td>\n",
       "      <td>0.391304</td>\n",
       "      <td>0.027624</td>\n",
       "      <td>0.275362</td>\n",
       "      <td>1</td>\n",
       "    </tr>\n",
       "    <tr>\n",
       "      <th>2884</th>\n",
       "      <td>0.333333</td>\n",
       "      <td>1</td>\n",
       "      <td>1</td>\n",
       "      <td>0.478261</td>\n",
       "      <td>0.248619</td>\n",
       "      <td>0.502415</td>\n",
       "      <td>2</td>\n",
       "    </tr>\n",
       "    <tr>\n",
       "      <th>1912</th>\n",
       "      <td>0.851852</td>\n",
       "      <td>3</td>\n",
       "      <td>1</td>\n",
       "      <td>0.074457</td>\n",
       "      <td>0.220994</td>\n",
       "      <td>0.309179</td>\n",
       "      <td>2</td>\n",
       "    </tr>\n",
       "  </tbody>\n",
       "</table>\n",
       "</div>"
      ],
      "text/plain": [
       "          Year  Type  Shift        km     Power    Engine  Seller\n",
       "1922  0.851852     2      1  0.282609  0.165746  0.332126       2\n",
       "127   0.592593     2      2  0.363043  0.138122  0.332126       1\n",
       "1113  0.296296     3      1  0.308696  0.248619  0.502415       1\n",
       "2303  0.518519     3      1  0.306522  0.082873  0.030193       1\n",
       "581   0.370370     3      1  0.461957  0.110497  0.272947       1\n",
       "2792  0.333333     1      2  0.510870  0.248619  0.502415       1\n",
       "1918  0.740741     3      1  0.184783  0.193370  0.309179       2\n",
       "561   0.518519     2      1  0.391304  0.027624  0.275362       1\n",
       "2884  0.333333     1      1  0.478261  0.248619  0.502415       2\n",
       "1912  0.851852     3      1  0.074457  0.220994  0.309179       2"
      ]
     },
     "execution_count": 15,
     "metadata": {},
     "output_type": "execute_result"
    }
   ],
   "source": [
    "X_train.head(10)"
   ]
  },
  {
   "cell_type": "code",
   "execution_count": 16,
   "id": "a04f6fa4",
   "metadata": {},
   "outputs": [
    {
     "data": {
      "text/html": [
       "<div>\n",
       "<style scoped>\n",
       "    .dataframe tbody tr th:only-of-type {\n",
       "        vertical-align: middle;\n",
       "    }\n",
       "\n",
       "    .dataframe tbody tr th {\n",
       "        vertical-align: top;\n",
       "    }\n",
       "\n",
       "    .dataframe thead th {\n",
       "        text-align: right;\n",
       "    }\n",
       "</style>\n",
       "<table border=\"1\" class=\"dataframe\">\n",
       "  <thead>\n",
       "    <tr style=\"text-align: right;\">\n",
       "      <th></th>\n",
       "      <th>Year</th>\n",
       "      <th>Type</th>\n",
       "      <th>Shift</th>\n",
       "      <th>km</th>\n",
       "      <th>Power</th>\n",
       "      <th>Engine</th>\n",
       "      <th>Seller</th>\n",
       "    </tr>\n",
       "  </thead>\n",
       "  <tbody>\n",
       "    <tr>\n",
       "      <th>2702</th>\n",
       "      <td>0.333333</td>\n",
       "      <td>1</td>\n",
       "      <td>1</td>\n",
       "      <td>0.458696</td>\n",
       "      <td>0.248619</td>\n",
       "      <td>0.502415</td>\n",
       "      <td>1</td>\n",
       "    </tr>\n",
       "    <tr>\n",
       "      <th>1873</th>\n",
       "      <td>0.555556</td>\n",
       "      <td>3</td>\n",
       "      <td>1</td>\n",
       "      <td>0.311957</td>\n",
       "      <td>0.171271</td>\n",
       "      <td>0.275362</td>\n",
       "      <td>1</td>\n",
       "    </tr>\n",
       "    <tr>\n",
       "      <th>1446</th>\n",
       "      <td>0.444444</td>\n",
       "      <td>3</td>\n",
       "      <td>1</td>\n",
       "      <td>0.310000</td>\n",
       "      <td>0.248619</td>\n",
       "      <td>0.502415</td>\n",
       "      <td>2</td>\n",
       "    </tr>\n",
       "    <tr>\n",
       "      <th>976</th>\n",
       "      <td>0.555556</td>\n",
       "      <td>2</td>\n",
       "      <td>2</td>\n",
       "      <td>0.347826</td>\n",
       "      <td>0.138122</td>\n",
       "      <td>0.332126</td>\n",
       "      <td>2</td>\n",
       "    </tr>\n",
       "    <tr>\n",
       "      <th>1823</th>\n",
       "      <td>0.111111</td>\n",
       "      <td>1</td>\n",
       "      <td>1</td>\n",
       "      <td>0.534783</td>\n",
       "      <td>0.082873</td>\n",
       "      <td>0.502415</td>\n",
       "      <td>2</td>\n",
       "    </tr>\n",
       "    <tr>\n",
       "      <th>...</th>\n",
       "      <td>...</td>\n",
       "      <td>...</td>\n",
       "      <td>...</td>\n",
       "      <td>...</td>\n",
       "      <td>...</td>\n",
       "      <td>...</td>\n",
       "      <td>...</td>\n",
       "    </tr>\n",
       "    <tr>\n",
       "      <th>953</th>\n",
       "      <td>0.333333</td>\n",
       "      <td>3</td>\n",
       "      <td>1</td>\n",
       "      <td>0.310870</td>\n",
       "      <td>0.110497</td>\n",
       "      <td>0.272947</td>\n",
       "      <td>2</td>\n",
       "    </tr>\n",
       "    <tr>\n",
       "      <th>2480</th>\n",
       "      <td>0.851852</td>\n",
       "      <td>3</td>\n",
       "      <td>2</td>\n",
       "      <td>0.182609</td>\n",
       "      <td>0.303867</td>\n",
       "      <td>0.472222</td>\n",
       "      <td>2</td>\n",
       "    </tr>\n",
       "    <tr>\n",
       "      <th>448</th>\n",
       "      <td>0.851852</td>\n",
       "      <td>2</td>\n",
       "      <td>1</td>\n",
       "      <td>0.209783</td>\n",
       "      <td>0.165746</td>\n",
       "      <td>0.332126</td>\n",
       "      <td>1</td>\n",
       "    </tr>\n",
       "    <tr>\n",
       "      <th>1057</th>\n",
       "      <td>0.777778</td>\n",
       "      <td>2</td>\n",
       "      <td>1</td>\n",
       "      <td>0.241304</td>\n",
       "      <td>0.248619</td>\n",
       "      <td>0.332126</td>\n",
       "      <td>1</td>\n",
       "    </tr>\n",
       "    <tr>\n",
       "      <th>2025</th>\n",
       "      <td>0.333333</td>\n",
       "      <td>1</td>\n",
       "      <td>1</td>\n",
       "      <td>0.365217</td>\n",
       "      <td>0.248619</td>\n",
       "      <td>0.502415</td>\n",
       "      <td>2</td>\n",
       "    </tr>\n",
       "  </tbody>\n",
       "</table>\n",
       "<p>100 rows × 7 columns</p>\n",
       "</div>"
      ],
      "text/plain": [
       "          Year  Type  Shift        km     Power    Engine  Seller\n",
       "2702  0.333333     1      1  0.458696  0.248619  0.502415       1\n",
       "1873  0.555556     3      1  0.311957  0.171271  0.275362       1\n",
       "1446  0.444444     3      1  0.310000  0.248619  0.502415       2\n",
       "976   0.555556     2      2  0.347826  0.138122  0.332126       2\n",
       "1823  0.111111     1      1  0.534783  0.082873  0.502415       2\n",
       "...        ...   ...    ...       ...       ...       ...     ...\n",
       "953   0.333333     3      1  0.310870  0.110497  0.272947       2\n",
       "2480  0.851852     3      2  0.182609  0.303867  0.472222       2\n",
       "448   0.851852     2      1  0.209783  0.165746  0.332126       1\n",
       "1057  0.777778     2      1  0.241304  0.248619  0.332126       1\n",
       "2025  0.333333     1      1  0.365217  0.248619  0.502415       2\n",
       "\n",
       "[100 rows x 7 columns]"
      ]
     },
     "execution_count": 16,
     "metadata": {},
     "output_type": "execute_result"
    }
   ],
   "source": [
    "X_test.head(100)"
   ]
  },
  {
   "cell_type": "code",
   "execution_count": 17,
   "id": "6c0bc7fa",
   "metadata": {},
   "outputs": [
    {
     "data": {
      "text/html": [
       "<div>\n",
       "<style scoped>\n",
       "    .dataframe tbody tr th:only-of-type {\n",
       "        vertical-align: middle;\n",
       "    }\n",
       "\n",
       "    .dataframe tbody tr th {\n",
       "        vertical-align: top;\n",
       "    }\n",
       "\n",
       "    .dataframe thead th {\n",
       "        text-align: right;\n",
       "    }\n",
       "</style>\n",
       "<table border=\"1\" class=\"dataframe\">\n",
       "  <thead>\n",
       "    <tr style=\"text-align: right;\">\n",
       "      <th></th>\n",
       "      <th>Year</th>\n",
       "      <th>Type</th>\n",
       "      <th>Shift</th>\n",
       "      <th>km</th>\n",
       "      <th>Power</th>\n",
       "      <th>Engine</th>\n",
       "      <th>Seller</th>\n",
       "    </tr>\n",
       "  </thead>\n",
       "  <tbody>\n",
       "    <tr>\n",
       "      <th>0</th>\n",
       "      <td>0.851852</td>\n",
       "      <td>2</td>\n",
       "      <td>1</td>\n",
       "      <td>0.130435</td>\n",
       "      <td>0.165746</td>\n",
       "      <td>0.332126</td>\n",
       "      <td>1</td>\n",
       "    </tr>\n",
       "    <tr>\n",
       "      <th>1</th>\n",
       "      <td>0.518519</td>\n",
       "      <td>3</td>\n",
       "      <td>1</td>\n",
       "      <td>0.234783</td>\n",
       "      <td>0.193370</td>\n",
       "      <td>0.309179</td>\n",
       "      <td>2</td>\n",
       "    </tr>\n",
       "    <tr>\n",
       "      <th>2</th>\n",
       "      <td>0.555556</td>\n",
       "      <td>3</td>\n",
       "      <td>1</td>\n",
       "      <td>0.292391</td>\n",
       "      <td>0.193370</td>\n",
       "      <td>0.309179</td>\n",
       "      <td>1</td>\n",
       "    </tr>\n",
       "    <tr>\n",
       "      <th>3</th>\n",
       "      <td>0.370370</td>\n",
       "      <td>1</td>\n",
       "      <td>1</td>\n",
       "      <td>0.434783</td>\n",
       "      <td>0.248619</td>\n",
       "      <td>0.502415</td>\n",
       "      <td>2</td>\n",
       "    </tr>\n",
       "    <tr>\n",
       "      <th>4</th>\n",
       "      <td>0.481481</td>\n",
       "      <td>2</td>\n",
       "      <td>1</td>\n",
       "      <td>0.365217</td>\n",
       "      <td>0.033149</td>\n",
       "      <td>0.758454</td>\n",
       "      <td>1</td>\n",
       "    </tr>\n",
       "    <tr>\n",
       "      <th>5</th>\n",
       "      <td>0.888889</td>\n",
       "      <td>3</td>\n",
       "      <td>1</td>\n",
       "      <td>0.031087</td>\n",
       "      <td>0.220994</td>\n",
       "      <td>0.309179</td>\n",
       "      <td>1</td>\n",
       "    </tr>\n",
       "    <tr>\n",
       "      <th>6</th>\n",
       "      <td>0.666667</td>\n",
       "      <td>1</td>\n",
       "      <td>2</td>\n",
       "      <td>0.195576</td>\n",
       "      <td>0.171271</td>\n",
       "      <td>0.275362</td>\n",
       "      <td>1</td>\n",
       "    </tr>\n",
       "    <tr>\n",
       "      <th>7</th>\n",
       "      <td>0.555556</td>\n",
       "      <td>3</td>\n",
       "      <td>1</td>\n",
       "      <td>0.236957</td>\n",
       "      <td>0.171271</td>\n",
       "      <td>0.275362</td>\n",
       "      <td>1</td>\n",
       "    </tr>\n",
       "    <tr>\n",
       "      <th>8</th>\n",
       "      <td>0.814815</td>\n",
       "      <td>2</td>\n",
       "      <td>1</td>\n",
       "      <td>0.193478</td>\n",
       "      <td>0.165746</td>\n",
       "      <td>0.332126</td>\n",
       "      <td>1</td>\n",
       "    </tr>\n",
       "    <tr>\n",
       "      <th>9</th>\n",
       "      <td>0.333333</td>\n",
       "      <td>3</td>\n",
       "      <td>1</td>\n",
       "      <td>0.336957</td>\n",
       "      <td>0.110497</td>\n",
       "      <td>0.272947</td>\n",
       "      <td>1</td>\n",
       "    </tr>\n",
       "  </tbody>\n",
       "</table>\n",
       "</div>"
      ],
      "text/plain": [
       "       Year  Type  Shift        km     Power    Engine  Seller\n",
       "0  0.851852     2      1  0.130435  0.165746  0.332126       1\n",
       "1  0.518519     3      1  0.234783  0.193370  0.309179       2\n",
       "2  0.555556     3      1  0.292391  0.193370  0.309179       1\n",
       "3  0.370370     1      1  0.434783  0.248619  0.502415       2\n",
       "4  0.481481     2      1  0.365217  0.033149  0.758454       1\n",
       "5  0.888889     3      1  0.031087  0.220994  0.309179       1\n",
       "6  0.666667     1      2  0.195576  0.171271  0.275362       1\n",
       "7  0.555556     3      1  0.236957  0.171271  0.275362       1\n",
       "8  0.814815     2      1  0.193478  0.165746  0.332126       1\n",
       "9  0.333333     3      1  0.336957  0.110497  0.272947       1"
      ]
     },
     "execution_count": 17,
     "metadata": {},
     "output_type": "execute_result"
    }
   ],
   "source": [
    "df_test.head(10)"
   ]
  },
  {
   "cell_type": "markdown",
   "id": "c66ab283",
   "metadata": {},
   "source": [
    "Everything seems quite normal after scaling the data"
   ]
  },
  {
   "cell_type": "markdown",
   "id": "74fac362",
   "metadata": {},
   "source": [
    "# WITHOUT POLYNOMIAL FEATURES\n",
    "## RIDGE REGRESSION"
   ]
  },
  {
   "cell_type": "markdown",
   "id": "69df19ca",
   "metadata": {},
   "source": [
    "In order to find the best alpha value, I am going to take advante of RidgeCV function and numpy.linspace to obtain a list of different alpha values that I will feed into the ridge function.\n",
    "\n",
    "In order to differentiate the alpha values, I am going to take the exponentiation of the list with 10"
   ]
  },
  {
   "cell_type": "code",
   "execution_count": 18,
   "id": "bdba26de",
   "metadata": {},
   "outputs": [
    {
     "data": {
      "text/plain": [
       "array([5.00000000e+09, 3.78231664e+09, 2.86118383e+09, 2.16438064e+09,\n",
       "       1.63727458e+09, 1.23853818e+09, 9.36908711e+08, 7.08737081e+08,\n",
       "       5.36133611e+08, 4.05565415e+08, 3.06795364e+08, 2.32079442e+08,\n",
       "       1.75559587e+08, 1.32804389e+08, 1.00461650e+08, 7.59955541e+07,\n",
       "       5.74878498e+07, 4.34874501e+07, 3.28966612e+07, 2.48851178e+07,\n",
       "       1.88246790e+07, 1.42401793e+07, 1.07721735e+07, 8.14875417e+06,\n",
       "       6.16423370e+06, 4.66301673e+06, 3.52740116e+06, 2.66834962e+06,\n",
       "       2.01850863e+06, 1.52692775e+06, 1.15506485e+06, 8.73764200e+05,\n",
       "       6.60970574e+05, 5.00000000e+05, 3.78231664e+05, 2.86118383e+05,\n",
       "       2.16438064e+05, 1.63727458e+05, 1.23853818e+05, 9.36908711e+04,\n",
       "       7.08737081e+04, 5.36133611e+04, 4.05565415e+04, 3.06795364e+04,\n",
       "       2.32079442e+04, 1.75559587e+04, 1.32804389e+04, 1.00461650e+04,\n",
       "       7.59955541e+03, 5.74878498e+03, 4.34874501e+03, 3.28966612e+03,\n",
       "       2.48851178e+03, 1.88246790e+03, 1.42401793e+03, 1.07721735e+03,\n",
       "       8.14875417e+02, 6.16423370e+02, 4.66301673e+02, 3.52740116e+02,\n",
       "       2.66834962e+02, 2.01850863e+02, 1.52692775e+02, 1.15506485e+02,\n",
       "       8.73764200e+01, 6.60970574e+01, 5.00000000e+01, 3.78231664e+01,\n",
       "       2.86118383e+01, 2.16438064e+01, 1.63727458e+01, 1.23853818e+01,\n",
       "       9.36908711e+00, 7.08737081e+00, 5.36133611e+00, 4.05565415e+00,\n",
       "       3.06795364e+00, 2.32079442e+00, 1.75559587e+00, 1.32804389e+00,\n",
       "       1.00461650e+00, 7.59955541e-01, 5.74878498e-01, 4.34874501e-01,\n",
       "       3.28966612e-01, 2.48851178e-01, 1.88246790e-01, 1.42401793e-01,\n",
       "       1.07721735e-01, 8.14875417e-02, 6.16423370e-02, 4.66301673e-02,\n",
       "       3.52740116e-02, 2.66834962e-02, 2.01850863e-02, 1.52692775e-02,\n",
       "       1.15506485e-02, 8.73764200e-03, 6.60970574e-03, 5.00000000e-03])"
      ]
     },
     "execution_count": 18,
     "metadata": {},
     "output_type": "execute_result"
    }
   ],
   "source": [
    "alphas = 10 ** np.linspace(10, -2, 100) * 0.5   # it will give me a set of 100 alpha values ranging\n",
    "                                                # from -2 to 10\n",
    "alphas"
   ]
  },
  {
   "cell_type": "code",
   "execution_count": 19,
   "id": "ee436dcc",
   "metadata": {},
   "outputs": [
    {
     "data": {
      "text/plain": [
       "(100, 7)"
      ]
     },
     "execution_count": 19,
     "metadata": {},
     "output_type": "execute_result"
    }
   ],
   "source": [
    "# Using every alpha values that I have in order to find the best\n",
    "ridge_model = Ridge(random_state=34)\n",
    "coefs = []\n",
    "# I am just calculating the alpha values, so I don't actually need to split the training data for that\n",
    "for alpha in alphas:\n",
    "    ridge_model.set_params(alpha=alpha)\n",
    "    ridge_model.fit(X_train, Y_train)\n",
    "    coefs.append(ridge_model.coef_)\n",
    "\n",
    "np.shape(coefs)"
   ]
  },
  {
   "cell_type": "code",
   "execution_count": 20,
   "id": "828aa859",
   "metadata": {},
   "outputs": [
    {
     "data": {
      "text/plain": [
       "Text(0, 0.5, 'weights')"
      ]
     },
     "execution_count": 20,
     "metadata": {},
     "output_type": "execute_result"
    },
    {
     "data": {
      "image/png": "[encoded data removed]",
      "text/plain": [
       "<Figure size 432x288 with 1 Axes>"
      ]
     },
     "metadata": {
      "needs_background": "light"
     },
     "output_type": "display_data"
    }
   ],
   "source": [
    "# let's find out how it looks like\n",
    "ax = plt.gca()\n",
    "ax.plot(alphas, coefs)\n",
    "ax.set_xscale(\"log\")\n",
    "plt.axis(\"tight\")\n",
    "plt.xlabel(\"alpha values\")\n",
    "plt.ylabel(\"weights\")\n",
    "# print(*np.sum(coefs, axis=1),sep=\"\\n\")"
   ]
  },
  {
   "cell_type": "markdown",
   "id": "1170698e",
   "metadata": {},
   "source": [
    "Now I just want to see mean square error for a alpha value, by the way, R2 score nearer to 1 is better! What we are looking for is R2 score nearer to 1."
   ]
  },
  {
   "cell_type": "code",
   "execution_count": 21,
   "id": "1ea71a4c",
   "metadata": {},
   "outputs": [
    {
     "name": "stdout",
     "output_type": "stream",
     "text": [
      "Year      39575.166545\n",
      "Type       -230.931783\n",
      "Shift      4382.152664\n",
      "km       -19612.956673\n",
      "Power      2277.075683\n",
      "Engine     5167.775864\n",
      "Seller     -223.188611\n",
      "dtype: float64\n",
      "MEA:  3020.687589952697\n",
      "R2:  0.8999120579003936\n"
     ]
    }
   ],
   "source": [
    "# now I will try to choose the best ones\n",
    "ridge_model2 = Ridge(alpha = 4, random_state=34)\n",
    "# print(X_train)\n",
    "ridge_model2.fit(X_train, Y_train)             # Fit a ridge regression on the training data\n",
    "pred2 = ridge_model2.predict(X_test)           # Use this model to predict the test data\n",
    "print(pd.Series(ridge_model2.coef_, index = X_normal.columns)) # Print coefficients\n",
    "print(\"MEA: \", mea(Y_test, pred2))          # Calculate the test MSE\n",
    "print(\"R2: \", r2_score(Y_test, pred2))          # Calculate the test R2"
   ]
  },
  {
   "cell_type": "markdown",
   "id": "8583e5fe",
   "metadata": {},
   "source": [
    "### Now I will try to use a very big Alpha value like 10**10"
   ]
  },
  {
   "cell_type": "code",
   "execution_count": 22,
   "id": "4d5f3c6d",
   "metadata": {},
   "outputs": [
    {
     "name": "stdout",
     "output_type": "stream",
     "text": [
      "Year      0.000564\n",
      "Type      0.000906\n",
      "Shift     0.000505\n",
      "km       -0.000355\n",
      "Power     0.000058\n",
      "Engine   -0.000014\n",
      "Seller    0.000195\n",
      "dtype: float64\n",
      "MEA:  11010.800939082175\n",
      "R2:  -3.205441454490199e-07\n"
     ]
    }
   ],
   "source": [
    "ridge_model3 = Ridge(alpha = 10 ** 10, random_state=34)\n",
    "ridge_model3.fit(X_train, Y_train)             # Fit a ridge regression on the training data\n",
    "pred3 = ridge_model3.predict(X_test)           # Use this model to predict the test data\n",
    "print(pd.Series(ridge_model3.coef_, index = X_normal.columns)) # Print coefficients\n",
    "print(\"MEA: \", mea(Y_test, pred3))          # Calculate the test MSE\n",
    "print(\"R2: \", r2_score(Y_test, pred3))          # Calculate the test R2\n"
   ]
  },
  {
   "cell_type": "markdown",
   "id": "0d108965",
   "metadata": {},
   "source": [
    "# Using big penalty\n",
    "\n",
    "Using big penalty shrinks the coeficients as we can clearly see to a very large degree, eventually\n",
    "reducing to a model only shows the intercept behaviour. This over-shrinking makes the model more biased,\n",
    "result in a higher MEA and very bad R2 score.\n",
    "\n",
    "## So\n",
    "So fitting a ridge regression model with alpha equals 4 leads to a much lower test MEA rather than\n",
    "fitting a model with just an intercept, which is alpha value equals to 10. Besides that, we can evaulate the situation directly examining the R2 scores as well. So using an alpha value smaller than 4 is better.\n",
    "\n",
    "## I will try to use Linear Regression\n",
    "Which is simply alpha = 0 for ridge regression, let's see its scores as well!"
   ]
  },
  {
   "cell_type": "code",
   "execution_count": 23,
   "id": "77c5233e",
   "metadata": {},
   "outputs": [
    {
     "name": "stdout",
     "output_type": "stream",
     "text": [
      "Year      41360.154855\n",
      "Type       -411.938916\n",
      "Shift      4319.738921\n",
      "km       -19957.358864\n",
      "Power      1183.209075\n",
      "Engine     6604.632295\n",
      "Seller     -314.550050\n",
      "dtype: float64\n",
      "MEA:  2998.974447951688\n",
      "R2:  0.8885579307340244\n"
     ]
    }
   ],
   "source": [
    "linear_regression = Ridge(alpha=0, random_state=34)\n",
    "linear_regression.fit(X_train, Y_train)\n",
    "pred_l_reg = linear_regression.predict(X_test)\n",
    "print(pd.Series(linear_regression.coef_, index=X_train.columns))\n",
    "print(\"MEA: \", mea(pred_l_reg, Y_test))\n",
    "print(\"R2: \", r2_score(pred_l_reg, Y_test))\n"
   ]
  },
  {
   "cell_type": "markdown",
   "id": "3f709ddd",
   "metadata": {},
   "source": [
    "### Let's Also Try With the Normal Linear Regression"
   ]
  },
  {
   "cell_type": "code",
   "execution_count": 24,
   "id": "4d4c1b80",
   "metadata": {},
   "outputs": [
    {
     "name": "stdout",
     "output_type": "stream",
     "text": [
      "Year      41360.154855\n",
      "Type       -411.938916\n",
      "Shift      4319.738921\n",
      "km       -19957.358864\n",
      "Power      1183.209075\n",
      "Engine     6604.632295\n",
      "Seller     -314.550050\n",
      "dtype: float64\n",
      "\n",
      "MEA:  2998.974447951688\n",
      "--let's round the R2 scores of two model, see whether they are nearly same:  0.0\n",
      "First ERROR -> R2:  0.8885579307340242\n",
      "First CV_Score, mean of the 5:  0.8622874951869945\n"
     ]
    }
   ],
   "source": [
    "l_regression = LinearRegression()\n",
    "l_regression.fit(X_train, Y_train)\n",
    "pred_r = l_regression.predict(X_test)\n",
    "print(pd.Series(l_regression.coef_, index=X_train.columns))\n",
    "print(\"\\nMEA: \", mea(pred_r, Y_test))\n",
    "\n",
    "print(\"--let's round the R2 scores of two model, see whether they are nearly same: \"\n",
    "      , round(r2_score(pred_l_reg, Y_test) - r2_score(pred_r, Y_test), 8))\n",
    "errors[\"first\"] = r2_score(pred_r, Y_test)\n",
    "print(\"First ERROR -> R2: \", errors[\"first\"])\n",
    "cv_errors[\"first\"] = cross_val_score(l_regression, X_train, Y_train, cv=kf5, scoring=\"r2\").mean()\n",
    "print(\"First CV_Score, mean of the 5: \", cv_errors[\"first\"])"
   ]
  },
  {
   "cell_type": "markdown",
   "id": "3f694db1",
   "metadata": {},
   "source": [
    "Okey then, instead of choosing arbitrarly and using the gut feeling, \n",
    "let's try to choose the best alpha values using Cross Validation function RidgeCV()"
   ]
  },
  {
   "cell_type": "code",
   "execution_count": 25,
   "id": "30eaf7ba",
   "metadata": {},
   "outputs": [
    {
     "name": "stdout",
     "output_type": "stream",
     "text": [
      "Best of alhpa:  0.24885117821660568\n"
     ]
    }
   ],
   "source": [
    "ridge_cv = RidgeCV(alphas=alphas, scoring=\"neg_mean_squared_error\")\n",
    "ridge_cv.fit(X_train, Y_train)\n",
    "print(\"Best of alhpa: \", ridge_cv.alpha_)"
   ]
  },
  {
   "cell_type": "code",
   "execution_count": 26,
   "id": "acdcc947",
   "metadata": {},
   "outputs": [
    {
     "name": "stdout",
     "output_type": "stream",
     "text": [
      "MEA Final:  2999.3584782944704\n",
      "Second ERROR -> R2 Final:  0.8881490737376665\n",
      "Second CV_Score, mean of the 5:  0.8620426101877475\n"
     ]
    }
   ],
   "source": [
    "ridge_final = Ridge(alpha=ridge_cv.alpha_, random_state=34)\n",
    "ridge_final.fit(X_train, Y_train)\n",
    "predict_final = ridge_final.predict(X_test)\n",
    "print(\"MEA Final: \", mea(predict_final, Y_test))\n",
    "print(\"Second ERROR -> R2 Final: \", r2_score(predict_final, Y_test))\n",
    "errors[\"second\"] = r2_score(predict_final, Y_test)\n",
    "cv_errors[\"second\"] = cross_val_score(ridge_final, X_train, Y_train, cv=kf5, scoring=\"r2\").mean()\n",
    "print(\"Second CV_Score, mean of the 5: \", cv_errors[\"second\"])"
   ]
  },
  {
   "cell_type": "code",
   "execution_count": 27,
   "id": "b6d3e9fc",
   "metadata": {},
   "outputs": [],
   "source": [
    "_ridge_final = ridge_final.fit(X_normal, Y_normal)\n",
    "# print(*_ridge_final.predict(df_test), sep=\"\\n\")"
   ]
  },
  {
   "cell_type": "markdown",
   "id": "7fd74044",
   "metadata": {},
   "source": [
    "# LASSO\n",
    "I will implement just the same logic on the lasso"
   ]
  },
  {
   "cell_type": "code",
   "execution_count": 28,
   "id": "bb074a91",
   "metadata": {},
   "outputs": [],
   "source": [
    "lasso = Lasso(max_iter = 1000, random_state=34)\n",
    "coefs = []\n",
    "\n",
    "for alpha in alphas:\n",
    "    lasso.set_params(alpha=alpha)\n",
    "    lasso.fit(scale(X_train), Y_train)\n",
    "    coefs.append(lasso.coef_)"
   ]
  },
  {
   "cell_type": "code",
   "execution_count": 29,
   "id": "b13b6a52",
   "metadata": {},
   "outputs": [
    {
     "data": {
      "text/plain": [
       "Text(0, 0.5, 'weights')"
      ]
     },
     "execution_count": 29,
     "metadata": {},
     "output_type": "execute_result"
    },
    {
     "data": {
      "image/png": "[encoded data removed]",
      "text/plain": [
       "<Figure size 432x288 with 1 Axes>"
      ]
     },
     "metadata": {
      "needs_background": "light"
     },
     "output_type": "display_data"
    }
   ],
   "source": [
    "# by plotting the coefficients, I can clearly see that after which point the regression model becomes \n",
    "# something like a function only has intercept value.\n",
    "ax = plt.gca()\n",
    "ax.plot(alphas*2, coefs)\n",
    "ax.set_xscale('log')\n",
    "plt.axis('tight')\n",
    "plt.xlabel('alpha')\n",
    "plt.ylabel('weights')"
   ]
  },
  {
   "cell_type": "markdown",
   "id": "353e5134",
   "metadata": {},
   "source": [
    "Between 10^3 and 10^5, the model becomes biased, so no need to use the values between those."
   ]
  },
  {
   "cell_type": "code",
   "execution_count": 30,
   "id": "468966d9",
   "metadata": {},
   "outputs": [
    {
     "name": "stdout",
     "output_type": "stream",
     "text": [
      "Lasso Mea:  3001.5841307457576\n",
      "Third ERROR -> Lasso R2:  0.9011697154655155\n",
      "\n",
      "Year      41328.834610\n",
      "Type       -387.024481\n",
      "Shift      4328.396626\n",
      "km       -19795.029431\n",
      "Power       760.399721\n",
      "Engine     6469.170063\n",
      "Seller     -294.822109\n",
      "dtype: float64\n",
      "Third CV_Score, mean of the 5:  0.861336060022843\n"
     ]
    }
   ],
   "source": [
    "lassocv = LassoCV(alphas = None, cv = 10, max_iter = 1000, random_state=34)\n",
    "lassocv.fit(X_train, Y_train)\n",
    "\n",
    "lasso.set_params(alpha=lassocv.alpha_)\n",
    "lasso.fit(X_train, Y_train)\n",
    "lasso_best_predict = lasso.predict(df_test)\n",
    "\n",
    "print(\"Lasso Mea: \", mea(Y_test, lasso.predict(X_test)))\n",
    "print(\"Third ERROR -> Lasso R2: \", r2_score(Y_test, lasso.predict(X_test)))\n",
    "print()\n",
    "# print(len(lasso.coef_))\n",
    "print(pd.Series(lasso.coef_, index=X_train.columns))\n",
    "# print(*lasso_best_predict, sep=\"\\n\")\n",
    "errors[\"third\"] = r2_score(Y_test, lasso.predict(X_test))\n",
    "cv_errors[\"third\"] = cross_val_score(lasso, X_train, Y_train, cv=kf5, scoring=\"r2\").mean()\n",
    "print(\"Third CV_Score, mean of the 5: \", cv_errors[\"third\"])"
   ]
  },
  {
   "cell_type": "markdown",
   "id": "0935233d",
   "metadata": {},
   "source": [
    "So as we can see, lasso model has a better R2 score. \n",
    "If km increases, it decreases the price.\n",
    "if shift incrases, it increases the price.\n",
    "if year incrases (new car), it increases the price.\n",
    "if power incrases, it increases the price.\n",
    "if engine increases, it increases the price.\n",
    "if seller decreases (1-seller, 2-owner), it increases the price.\n",
    "\n",
    "So for now, by looking at the coefficients, it seems logical to me to accept the coefficients to a certain extent. By feeding more data into it, it would come up with a better R2 score I think."
   ]
  },
  {
   "cell_type": "code",
   "execution_count": 31,
   "id": "5d423eb4",
   "metadata": {},
   "outputs": [
    {
     "data": {
      "text/html": [
       "<div>\n",
       "<style scoped>\n",
       "    .dataframe tbody tr th:only-of-type {\n",
       "        vertical-align: middle;\n",
       "    }\n",
       "\n",
       "    .dataframe tbody tr th {\n",
       "        vertical-align: top;\n",
       "    }\n",
       "\n",
       "    .dataframe thead th {\n",
       "        text-align: right;\n",
       "    }\n",
       "</style>\n",
       "<table border=\"1\" class=\"dataframe\">\n",
       "  <thead>\n",
       "    <tr style=\"text-align: right;\">\n",
       "      <th></th>\n",
       "      <th>Year</th>\n",
       "      <th>Type</th>\n",
       "      <th>Shift</th>\n",
       "      <th>km</th>\n",
       "      <th>Power</th>\n",
       "      <th>Engine</th>\n",
       "      <th>Seller</th>\n",
       "    </tr>\n",
       "  </thead>\n",
       "  <tbody>\n",
       "    <tr>\n",
       "      <th>0</th>\n",
       "      <td>0.851852</td>\n",
       "      <td>2</td>\n",
       "      <td>1</td>\n",
       "      <td>0.130435</td>\n",
       "      <td>0.165746</td>\n",
       "      <td>0.332126</td>\n",
       "      <td>1</td>\n",
       "    </tr>\n",
       "    <tr>\n",
       "      <th>1</th>\n",
       "      <td>0.518519</td>\n",
       "      <td>3</td>\n",
       "      <td>1</td>\n",
       "      <td>0.234783</td>\n",
       "      <td>0.193370</td>\n",
       "      <td>0.309179</td>\n",
       "      <td>2</td>\n",
       "    </tr>\n",
       "    <tr>\n",
       "      <th>2</th>\n",
       "      <td>0.555556</td>\n",
       "      <td>3</td>\n",
       "      <td>1</td>\n",
       "      <td>0.292391</td>\n",
       "      <td>0.193370</td>\n",
       "      <td>0.309179</td>\n",
       "      <td>1</td>\n",
       "    </tr>\n",
       "    <tr>\n",
       "      <th>3</th>\n",
       "      <td>0.370370</td>\n",
       "      <td>1</td>\n",
       "      <td>1</td>\n",
       "      <td>0.434783</td>\n",
       "      <td>0.248619</td>\n",
       "      <td>0.502415</td>\n",
       "      <td>2</td>\n",
       "    </tr>\n",
       "    <tr>\n",
       "      <th>4</th>\n",
       "      <td>0.481481</td>\n",
       "      <td>2</td>\n",
       "      <td>1</td>\n",
       "      <td>0.365217</td>\n",
       "      <td>0.033149</td>\n",
       "      <td>0.758454</td>\n",
       "      <td>1</td>\n",
       "    </tr>\n",
       "    <tr>\n",
       "      <th>5</th>\n",
       "      <td>0.888889</td>\n",
       "      <td>3</td>\n",
       "      <td>1</td>\n",
       "      <td>0.031087</td>\n",
       "      <td>0.220994</td>\n",
       "      <td>0.309179</td>\n",
       "      <td>1</td>\n",
       "    </tr>\n",
       "    <tr>\n",
       "      <th>6</th>\n",
       "      <td>0.666667</td>\n",
       "      <td>1</td>\n",
       "      <td>2</td>\n",
       "      <td>0.195576</td>\n",
       "      <td>0.171271</td>\n",
       "      <td>0.275362</td>\n",
       "      <td>1</td>\n",
       "    </tr>\n",
       "    <tr>\n",
       "      <th>7</th>\n",
       "      <td>0.555556</td>\n",
       "      <td>3</td>\n",
       "      <td>1</td>\n",
       "      <td>0.236957</td>\n",
       "      <td>0.171271</td>\n",
       "      <td>0.275362</td>\n",
       "      <td>1</td>\n",
       "    </tr>\n",
       "    <tr>\n",
       "      <th>8</th>\n",
       "      <td>0.814815</td>\n",
       "      <td>2</td>\n",
       "      <td>1</td>\n",
       "      <td>0.193478</td>\n",
       "      <td>0.165746</td>\n",
       "      <td>0.332126</td>\n",
       "      <td>1</td>\n",
       "    </tr>\n",
       "    <tr>\n",
       "      <th>9</th>\n",
       "      <td>0.333333</td>\n",
       "      <td>3</td>\n",
       "      <td>1</td>\n",
       "      <td>0.336957</td>\n",
       "      <td>0.110497</td>\n",
       "      <td>0.272947</td>\n",
       "      <td>1</td>\n",
       "    </tr>\n",
       "  </tbody>\n",
       "</table>\n",
       "</div>"
      ],
      "text/plain": [
       "       Year  Type  Shift        km     Power    Engine  Seller\n",
       "0  0.851852     2      1  0.130435  0.165746  0.332126       1\n",
       "1  0.518519     3      1  0.234783  0.193370  0.309179       2\n",
       "2  0.555556     3      1  0.292391  0.193370  0.309179       1\n",
       "3  0.370370     1      1  0.434783  0.248619  0.502415       2\n",
       "4  0.481481     2      1  0.365217  0.033149  0.758454       1\n",
       "5  0.888889     3      1  0.031087  0.220994  0.309179       1\n",
       "6  0.666667     1      2  0.195576  0.171271  0.275362       1\n",
       "7  0.555556     3      1  0.236957  0.171271  0.275362       1\n",
       "8  0.814815     2      1  0.193478  0.165746  0.332126       1\n",
       "9  0.333333     3      1  0.336957  0.110497  0.272947       1"
      ]
     },
     "execution_count": 31,
     "metadata": {},
     "output_type": "execute_result"
    }
   ],
   "source": [
    "df_test.head(10)\n",
    "# X_normal.head(10)"
   ]
  },
  {
   "cell_type": "markdown",
   "id": "6f14fca9",
   "metadata": {},
   "source": [
    "# WITH POLYNOMIAL FEATURES\n",
    "In order to not repeat myself, I will not detail the coming"
   ]
  },
  {
   "cell_type": "markdown",
   "id": "e46b9f9c",
   "metadata": {},
   "source": [
    "### Ridge and Linear Regression with polynomial features"
   ]
  },
  {
   "cell_type": "code",
   "execution_count": 32,
   "id": "48a8b232",
   "metadata": {},
   "outputs": [],
   "source": [
    "### BELOW IS DONE WITH ADDING POLYNOMIAL FEATURES\n",
    "poly_features = PolynomialFeatures(degree=2)\n",
    "X_normal_poly = poly_features.fit_transform(X_normal)\n",
    "df_test_poly = poly_features.transform(df_test)\n",
    "X_train_poly, X_test_poly, Y_train_poly, Y_test_poly = train_test_split(X_normal_poly, Y_normal, test_size=0.2, random_state=34)\n"
   ]
  },
  {
   "cell_type": "code",
   "execution_count": 33,
   "id": "c07e1589",
   "metadata": {},
   "outputs": [],
   "source": [
    "#Ridge Regression\n",
    "# Using every alpha values that I have in order to find the best\n",
    "ridge_model = Ridge(random_state=34)\n",
    "coefs = []\n",
    "# I am just calculating the alpha values, so I don't actually need to split the training data for that\n",
    "for alpha in alphas:\n",
    "    ridge_model.set_params(alpha=alpha)\n",
    "    ridge_model.fit(X_normal_poly, Y_normal)\n",
    "    coefs.append(ridge_model.coef_)"
   ]
  },
  {
   "cell_type": "code",
   "execution_count": 34,
   "id": "e9066aad",
   "metadata": {},
   "outputs": [
    {
     "data": {
      "text/plain": [
       "Text(0, 0.5, 'weights')"
      ]
     },
     "execution_count": 34,
     "metadata": {},
     "output_type": "execute_result"
    },
    {
     "data": {
      "image/png": "[encoded data removed]",
      "text/plain": [
       "<Figure size 432x288 with 1 Axes>"
      ]
     },
     "metadata": {
      "needs_background": "light"
     },
     "output_type": "display_data"
    }
   ],
   "source": [
    "# let's find out how it looks like\n",
    "ax = plt.gca()\n",
    "ax.plot(alphas, coefs)\n",
    "ax.set_xscale(\"log\")\n",
    "plt.axis(\"tight\")\n",
    "plt.xlabel(\"alpha values\")\n",
    "plt.ylabel(\"weights\")\n",
    "# print(*np.sum(coefs, axis=1),sep=\"\\n\")"
   ]
  },
  {
   "cell_type": "markdown",
   "id": "fdbbb197",
   "metadata": {},
   "source": [
    "Between 10^3 and 10^5, the model becomes biased, so no need to use the values between those"
   ]
  },
  {
   "cell_type": "code",
   "execution_count": 35,
   "id": "aaf827c1",
   "metadata": {},
   "outputs": [
    {
     "name": "stdout",
     "output_type": "stream",
     "text": [
      "Features: \n",
      "0     2.484067e+16\n",
      "1     2.610445e+04\n",
      "2     6.182199e+03\n",
      "3     5.447107e+16\n",
      "4     2.749795e+03\n",
      "5     1.098014e+04\n",
      "6     3.809877e+02\n",
      "7     6.603844e+16\n",
      "8     9.079937e+03\n",
      "9    -3.866657e+02\n",
      "10    5.567706e+03\n",
      "11   -4.122714e+04\n",
      "12    2.588789e+03\n",
      "13    1.113009e+04\n",
      "14    5.648107e+02\n",
      "15   -1.624285e+03\n",
      "16   -7.285717e+01\n",
      "17   -2.231265e+01\n",
      "18    9.741153e+02\n",
      "19    1.326378e+03\n",
      "20   -2.416859e+02\n",
      "21   -1.815702e+16\n",
      "22   -2.581536e+03\n",
      "23   -7.300389e+03\n",
      "24    2.742291e+03\n",
      "25    8.967634e+02\n",
      "26    3.231894e+03\n",
      "27   -7.770755e+03\n",
      "28    1.082125e+03\n",
      "29    3.433017e+03\n",
      "30   -1.046868e+03\n",
      "31   -3.269546e+02\n",
      "32    1.938201e+03\n",
      "33   -1.503831e+04\n",
      "34   -3.773181e+02\n",
      "35   -2.201281e+16\n",
      "dtype: float64\n",
      "MEA:  2653.3379310344826\n",
      "R2:  0.9138311048417629\n"
     ]
    }
   ],
   "source": [
    "#normal linear regression\n",
    "linear_regression = Ridge(alpha=0, random_state=34)\n",
    "linear_regression.fit(X_train_poly, Y_train_poly)\n",
    "pred_l_reg = linear_regression.predict(X_test_poly)\n",
    "print(\"Features: \")\n",
    "print(pd.Series(linear_regression.coef_, index=list(range(len(X_test_poly.T)))))\n",
    "print(\"MEA: \", mea(pred_l_reg, Y_test))\n",
    "print(\"R2: \", r2_score(pred_l_reg, Y_test))"
   ]
  },
  {
   "cell_type": "code",
   "execution_count": 36,
   "id": "d5aec07a",
   "metadata": {},
   "outputs": [
    {
     "name": "stdout",
     "output_type": "stream",
     "text": [
      "Best of alhpa:  0.4348745013088917\n"
     ]
    }
   ],
   "source": [
    "ridge_cv = RidgeCV(alphas=alphas, scoring=\"neg_mean_squared_error\")\n",
    "ridge_cv.fit(X_train_poly, Y_train_poly)\n",
    "print(\"Best of alhpa: \", ridge_cv.alpha_)"
   ]
  },
  {
   "cell_type": "code",
   "execution_count": 47,
   "id": "a47fbd43",
   "metadata": {},
   "outputs": [
    {
     "name": "stdout",
     "output_type": "stream",
     "text": [
      "MEA Final:  2648.332618668403\n",
      "Fourth ERROR R2 Final:  0.9135032597754309\n",
      "Fourth CV_Score, mean of the 5:  0.881194985845107\n"
     ]
    }
   ],
   "source": [
    "ridge_final_poly = Ridge(alpha=ridge_cv.alpha_, random_state=34)\n",
    "ridge_final_poly.fit(X_train_poly, Y_train_poly)\n",
    "predict_final_poly = ridge_final_poly.predict(X_test_poly)\n",
    "print(\"MEA Final: \", mea(predict_final_poly, Y_test_poly))\n",
    "print(\"Fourth ERROR R2 Final: \", r2_score(predict_final_poly, Y_test_poly))\n",
    "errors[\"fourth\"] = r2_score(predict_final_poly, Y_test_poly)\n",
    "cv_errors[\"fourth\"] = cross_val_score(ridge_final_poly, X_train_poly, Y_train_poly, cv=kf5, scoring=\"r2\").mean()\n",
    "print(\"Fourth CV_Score, mean of the 5: \", cv_errors[\"fourth\"])"
   ]
  },
  {
   "cell_type": "markdown",
   "id": "b40ee0cd",
   "metadata": {},
   "source": [
    "### Lasso Regression with polynomial features"
   ]
  },
  {
   "cell_type": "code",
   "execution_count": 38,
   "id": "88bfb028",
   "metadata": {},
   "outputs": [
    {
     "name": "stderr",
     "output_type": "stream",
     "text": [
      "c:\\users\\semih\\appdata\\local\\programs\\python\\python39\\lib\\site-packages\\sklearn\\linear_model\\_coordinate_descent.py:647: ConvergenceWarning: Objective did not converge. You might want to increase the number of iterations, check the scale of the features or consider increasing regularisation. Duality gap: 8.146e+09, tolerance: 3.737e+07\n",
      "  model = cd_fast.enet_coordinate_descent(\n",
      "c:\\users\\semih\\appdata\\local\\programs\\python\\python39\\lib\\site-packages\\sklearn\\linear_model\\_coordinate_descent.py:647: ConvergenceWarning: Objective did not converge. You might want to increase the number of iterations, check the scale of the features or consider increasing regularisation. Duality gap: 8.146e+09, tolerance: 3.737e+07\n",
      "  model = cd_fast.enet_coordinate_descent(\n",
      "c:\\users\\semih\\appdata\\local\\programs\\python\\python39\\lib\\site-packages\\sklearn\\linear_model\\_coordinate_descent.py:647: ConvergenceWarning: Objective did not converge. You might want to increase the number of iterations, check the scale of the features or consider increasing regularisation. Duality gap: 8.146e+09, tolerance: 3.737e+07\n",
      "  model = cd_fast.enet_coordinate_descent(\n"
     ]
    }
   ],
   "source": [
    "lasso = Lasso(max_iter = 100_000, random_state=34)\n",
    "coefs = []\n",
    "\n",
    "for alpha in alphas:\n",
    "    lasso.set_params(alpha=alpha)\n",
    "    lasso.fit(scale(X_train_poly), Y_train_poly)\n",
    "    coefs.append(lasso.coef_)\n",
    "    "
   ]
  },
  {
   "cell_type": "code",
   "execution_count": 39,
   "id": "a3da78c7",
   "metadata": {},
   "outputs": [
    {
     "name": "stdout",
     "output_type": "stream",
     "text": [
      "Lasso POLYNOMIAL Mea:  2751.8599468614766\n",
      "Fifth Error -> Lasso POLYNOMIAL R2 :  0.9176009955674616\n",
      "36\n",
      "Fourth CV_Score, mean of the 5:  0.8781408874188245\n"
     ]
    }
   ],
   "source": [
    "lassocv = LassoCV(alphas = None, cv = 10, max_iter = 100_000, random_state=34)\n",
    "lassocv.fit(X_train_poly, Y_train_poly)\n",
    "\n",
    "lasso.set_params(alpha=lassocv.alpha_)\n",
    "lasso.fit(X_train_poly, Y_train_poly)\n",
    "lasso_best_predict = lasso.predict(df_test_poly)\n",
    "\n",
    "print(\"Lasso POLYNOMIAL Mea: \", mea(Y_test_poly, lasso.predict(X_test_poly)))\n",
    "print(\"Fifth Error -> Lasso POLYNOMIAL R2 : \", r2_score(Y_test_poly, lasso.predict(X_test_poly)))\n",
    "print(len(lasso.coef_))\n",
    "# print(pd.Series(lasso.coef_, index=X_train.columns))\n",
    "# print(*lasso_best_predict, sep=\"\\n\")\n",
    "errors[\"fifth\"] = r2_score(Y_test_poly, lasso.predict(X_test_poly))\n",
    "cv_errors[\"fifth\"] = cross_val_score(lasso, X_train_poly, Y_train_poly, cv=kf5, scoring=\"r2\").mean()\n",
    "print(\"Fourth CV_Score, mean of the 5: \", cv_errors[\"fifth\"])"
   ]
  },
  {
   "cell_type": "markdown",
   "id": "b2b3c77a",
   "metadata": {},
   "source": [
    "# My Errors in Order"
   ]
  },
  {
   "cell_type": "code",
   "execution_count": 48,
   "id": "e36ee025",
   "metadata": {},
   "outputs": [
    {
     "name": "stdout",
     "output_type": "stream",
     "text": [
      "'first' R2 Error: 0.8885579307340242\n",
      "'second' R2 Error: 0.8881490737376665\n",
      "'third' R2 Error: 0.9011697154655155\n",
      "'fourth' R2 Error: 0.9135032597754309\n",
      "'fifth' R2 Error: 0.9176009955674616\n",
      "\n",
      "\n",
      "'first' Cross Validation Score: 0.8622874951869945\n",
      "'second' Cross Validation Score: 0.8620426101877475\n",
      "'third' Cross Validation Score: 0.861336060022843\n",
      "'fourth' Cross Validation Score: 0.881194985845107\n",
      "'fifth' Cross Validation Score: 0.8781408874188245\n"
     ]
    }
   ],
   "source": [
    "for key, value in errors.items():\n",
    "    print(f\"'{key}' R2 Error: {value}\")\n",
    "print(\"\\n\")\n",
    "for key, value in cv_errors.items():\n",
    "    print(f\"'{key}' Cross Validation Score: {value}\")"
   ]
  },
  {
   "cell_type": "markdown",
   "id": "b1b449f8",
   "metadata": {},
   "source": [
    "## Evaluation\n",
    "Since the R2 error near to 1 is better, it would be wiser to choose the model had the highest R2 square but besides that the model also has to have a high cross validation score as well in order to decrease the change of overfitting. Because of these, I think that the fourth and the fifth models are likely to be chosen.\n"
   ]
  },
  {
   "cell_type": "code",
   "execution_count": 41,
   "id": "7e4c2cd6",
   "metadata": {},
   "outputs": [
    {
     "name": "stdout",
     "output_type": "stream",
     "text": [
      "R2 Error differences of the fourth and the fifth model -0.0040977357920306545\n",
      "Cross validation score differences of the fourth and the fifth model 0.0027889971647399037\n"
     ]
    }
   ],
   "source": [
    "print(\"R2 Error differences of the fourth and the fifth model\", errors[\"fourth\"] - errors[\"fifth\"])\n",
    "print(\"Cross validation score differences of the fourth and the fifth model\", cv_errors[\"fourth\"] - cv_errors[\"fifth\"])"
   ]
  },
  {
   "cell_type": "markdown",
   "id": "c1d3791e",
   "metadata": {},
   "source": [
    "Based on the above values, I have the intuition that the fourth model can perform better in an unseen dataset because of the better cross validation error. So I have chosen <b>the Fourth Model</b>"
   ]
  },
  {
   "cell_type": "code",
   "execution_count": 51,
   "id": "9aa3738a",
   "metadata": {},
   "outputs": [],
   "source": [
    "predict_final_poly_test = ridge_final_poly.predict(df_test_poly)\n",
    "with open(\"Results.txt\", \"w\") as price_file:\n",
    "    price_file.writelines([str(item)+\"\\n\" for item in predict_final_poly_test])"
   ]
  },
  {
   "cell_type": "markdown",
   "id": "236a1ba5",
   "metadata": {},
   "source": [
    "### Below are the predicted prices"
   ]
  },
  {
   "cell_type": "code",
   "execution_count": 52,
   "id": "bb1438e7",
   "metadata": {},
   "outputs": [
    {
     "name": "stdout",
     "output_type": "stream",
     "text": [
      "45696.480951026206\n",
      "27022.643804331554\n",
      "28196.499473868476\n",
      "20928.1508478034\n",
      "23957.256861807055\n",
      "49082.78238032914\n",
      "38551.38111359114\n",
      "29084.455960238676\n",
      "42309.41303678447\n",
      "20548.854737861435\n",
      "51049.89308002431\n",
      "20208.336835944378\n",
      "48021.30815309693\n",
      "37301.58324970002\n",
      "29499.200010857276\n",
      "35350.28195651817\n",
      "36720.51188781773\n",
      "28842.837811336198\n",
      "29074.793540258455\n",
      "55836.05589492937\n",
      "53194.57096854892\n",
      "22626.17608773846\n",
      "20558.035274519578\n",
      "50965.69243925161\n",
      "19613.522989802226\n",
      "15058.199675154436\n",
      "47260.43326282565\n",
      "29065.40969700084\n",
      "17523.89652344688\n",
      "20844.14951982702\n",
      "22690.918406855337\n",
      "48763.24099370482\n",
      "23946.459666410334\n",
      "51211.20715911753\n",
      "42140.90719779164\n",
      "21869.44883720509\n",
      "56619.90411577102\n",
      "33713.05705060813\n",
      "43958.195403936756\n",
      "20601.899423012335\n",
      "24285.535453635413\n",
      "26702.757326676787\n",
      "36025.99173346207\n",
      "15535.586669258697\n",
      "47053.615127020734\n",
      "50318.960363382925\n",
      "18434.31743208351\n",
      "41884.96497346401\n",
      "26165.962402106434\n",
      "24743.535461686402\n",
      "49981.652880483045\n",
      "54109.41125243909\n",
      "25366.53507071793\n",
      "43569.69144989476\n",
      "26387.40362472084\n",
      "28677.363730116354\n",
      "30813.373732044856\n",
      "61831.3771067307\n",
      "28083.356714281552\n",
      "46356.29856381527\n",
      "41139.703141273036\n",
      "28140.125439535\n",
      "30439.26145813407\n",
      "29320.21520063376\n",
      "26900.6978158755\n",
      "57000.977017563935\n",
      "26538.105931519618\n",
      "55626.06764806444\n",
      "37012.22477706208\n",
      "45148.623753334956\n",
      "21961.216329789386\n",
      "18245.161464563356\n",
      "21271.535128030057\n",
      "41471.565259648116\n",
      "40930.14565719811\n",
      "32288.298352924096\n",
      "33830.27897842117\n",
      "30009.216563779508\n",
      "42547.55680150242\n",
      "33048.30949256762\n",
      "33631.74062775616\n",
      "28563.49703465262\n",
      "25340.734641957584\n",
      "26027.694271997643\n",
      "23167.494789845772\n",
      "24441.049396627994\n",
      "41583.65844068281\n",
      "24147.118336331798\n",
      "30857.41014078864\n",
      "26096.468766210524\n",
      "46178.21347314924\n",
      "50632.17456117844\n",
      "18369.64620584548\n",
      "38493.515219325134\n"
     ]
    }
   ],
   "source": [
    "print(*predict_final_poly_test, sep='\\n')"
   ]
  }
 ],
 "metadata": {
  "kernelspec": {
   "display_name": "Python 3",
   "language": "python",
   "name": "python3"
  },
  "language_info": {
   "codemirror_mode": {
    "name": "ipython",
    "version": 3
   },
   "file_extension": ".py",
   "mimetype": "text/x-python",
   "name": "python",
   "nbconvert_exporter": "python",
   "pygments_lexer": "ipython3",
   "version": "3.9.5"
  }
 },
 "nbformat": 4,
 "nbformat_minor": 5
}
