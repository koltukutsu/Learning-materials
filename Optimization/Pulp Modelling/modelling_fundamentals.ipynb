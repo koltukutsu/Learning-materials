{
 "cells": [
  {
   "cell_type": "code",
   "execution_count": 1,
   "metadata": {},
   "outputs": [
    {
     "name": "stdout",
     "output_type": "stream",
     "text": [
      "The shipment cost from factory to distribution center\n",
      "             Atlas  Nebule  Azure\n",
      "Tonoz            4       9      3\n",
      "White Kiosk      2       8      3\n",
      "Quarterage       2       3      4\n",
      "Middle Yard      1       9      6\n",
      "\n",
      " The shipment cost from distribution center to store\n",
      "        Venus  Minerva  Neptunus  Mars  Ceres\n",
      "Atlas       4        5         4     8      2\n",
      "Nebule      1        1         6     7      5\n",
      "Azure       2        8         9    10      9\n",
      "\n",
      " The shipment cost from factory to store\n",
      "             Venus  Minerva  Neptunus  Mars  Ceres\n",
      "Tonoz            5        5         3     8      7\n",
      "White Kiosk      5        2         9     4      9\n",
      "Quarterage       5        8         8     3      4\n",
      "Middle Yard      1        9         8     6      5\n"
     ]
    }
   ],
   "source": [
    "import pandas as pd\n",
    "import numpy as np\n",
    "import math\n",
    "from pulp import LpVariable, LpProblem, LpMinimize, lpSum, const, LpStatus, value\n",
    "\n",
    "# the seed number should be your student ID. \n",
    "# If it has letter, please ignore it and use only numbers in the ID\n",
    "np.random.seed(1234) \n",
    "\n",
    "# Shipment cost from factory to distribution center\n",
    "RandomFtoD1 = np.round(np.random.uniform(low = 1, high = 10, size = 12),0).astype(int)\n",
    "RandomFtoD2 = np.reshape(RandomFtoD1, (4,3))\n",
    "CostFtoD = pd.DataFrame(RandomFtoD2, columns=['Atlas', 'Nebule',\"Azure\"], \n",
    "                        index=[\"Tonoz\",\"White Kiosk\",\"Quarterage\",\"Middle Yard\"])\n",
    "#CostFtoD # gives the shipment cost from factory to distribution center\n",
    "\n",
    "# Shipment cost from distribution center to store\n",
    "RandomDtoS1 = np.round(np.random.uniform(low = 1, high = 10, size = 15),0).astype(int)\n",
    "RandomDtoS2 = np.reshape(RandomDtoS1, (3,5))\n",
    "CostDtoS = pd.DataFrame(RandomDtoS2, columns=[\"Venus\", \"Minerva\", \"Neptunus\", \"Mars\", \"Ceres\"], \n",
    "                        index=['Atlas', 'Nebule',\"Azure\"])\n",
    "#CostDtoS # gives the shipment cost from distribution center to store\n",
    "\n",
    "# Shipment cost from factory to store\n",
    "RandomFtoS1 = np.round(np.random.uniform(low = 1, high = 10, size = 20),0).astype(int)\n",
    "RandomFtoS2 = np.reshape(RandomFtoS1, (4,5))\n",
    "CostFtoS = pd.DataFrame(RandomFtoS2, columns=[\"Venus\", \"Minerva\", \"Neptunus\", \"Mars\", \"Ceres\"],\n",
    "                        index=[\"Tonoz\",\"White Kiosk\",\"Quarterage\",\"Middle Yard\"])\n",
    "#CostFtoS # gives the shipment cost from distribution center to store\n",
    "\n",
    "# Your Required Information About Shipment Cost\n",
    "print(\"The shipment cost from factory to distribution center\")\n",
    "print(CostFtoD)\n",
    "print(\"\\n The shipment cost from distribution center to store\")\n",
    "print(CostDtoS)\n",
    "print(\"\\n The shipment cost from factory to store\")\n",
    "print(CostFtoS)"
   ]
  },
  {
   "cell_type": "code",
   "execution_count": 2,
   "metadata": {},
   "outputs": [
    {
     "data": {
      "text/html": [
       "<div>\n",
       "<style scoped>\n",
       "    .dataframe tbody tr th:only-of-type {\n",
       "        vertical-align: middle;\n",
       "    }\n",
       "\n",
       "    .dataframe tbody tr th {\n",
       "        vertical-align: top;\n",
       "    }\n",
       "\n",
       "    .dataframe thead th {\n",
       "        text-align: right;\n",
       "    }\n",
       "</style>\n",
       "<table border=\"1\" class=\"dataframe\">\n",
       "  <thead>\n",
       "    <tr style=\"text-align: right;\">\n",
       "      <th></th>\n",
       "      <th>Venus</th>\n",
       "      <th>Minerva</th>\n",
       "      <th>Neptunus</th>\n",
       "      <th>Mars</th>\n",
       "      <th>Ceres</th>\n",
       "    </tr>\n",
       "  </thead>\n",
       "  <tbody>\n",
       "    <tr>\n",
       "      <th>Atlas</th>\n",
       "      <td>4</td>\n",
       "      <td>5</td>\n",
       "      <td>4</td>\n",
       "      <td>8</td>\n",
       "      <td>2</td>\n",
       "    </tr>\n",
       "    <tr>\n",
       "      <th>Nebule</th>\n",
       "      <td>1</td>\n",
       "      <td>1</td>\n",
       "      <td>6</td>\n",
       "      <td>7</td>\n",
       "      <td>5</td>\n",
       "    </tr>\n",
       "    <tr>\n",
       "      <th>Azure</th>\n",
       "      <td>2</td>\n",
       "      <td>8</td>\n",
       "      <td>9</td>\n",
       "      <td>10</td>\n",
       "      <td>9</td>\n",
       "    </tr>\n",
       "  </tbody>\n",
       "</table>\n",
       "</div>"
      ],
      "text/plain": [
       "        Venus  Minerva  Neptunus  Mars  Ceres\n",
       "Atlas       4        5         4     8      2\n",
       "Nebule      1        1         6     7      5\n",
       "Azure       2        8         9    10      9"
      ]
     },
     "execution_count": 2,
     "metadata": {},
     "output_type": "execute_result"
    }
   ],
   "source": [
    "CostDtoS"
   ]
  },
  {
   "cell_type": "code",
   "execution_count": 3,
   "metadata": {},
   "outputs": [
    {
     "data": {
      "text/html": [
       "<div>\n",
       "<style scoped>\n",
       "    .dataframe tbody tr th:only-of-type {\n",
       "        vertical-align: middle;\n",
       "    }\n",
       "\n",
       "    .dataframe tbody tr th {\n",
       "        vertical-align: top;\n",
       "    }\n",
       "\n",
       "    .dataframe thead th {\n",
       "        text-align: right;\n",
       "    }\n",
       "</style>\n",
       "<table border=\"1\" class=\"dataframe\">\n",
       "  <thead>\n",
       "    <tr style=\"text-align: right;\">\n",
       "      <th></th>\n",
       "      <th>Venus</th>\n",
       "      <th>Minerva</th>\n",
       "      <th>Neptunus</th>\n",
       "      <th>Mars</th>\n",
       "      <th>Ceres</th>\n",
       "    </tr>\n",
       "  </thead>\n",
       "  <tbody>\n",
       "    <tr>\n",
       "      <th>Tonoz</th>\n",
       "      <td>5</td>\n",
       "      <td>5</td>\n",
       "      <td>3</td>\n",
       "      <td>8</td>\n",
       "      <td>7</td>\n",
       "    </tr>\n",
       "    <tr>\n",
       "      <th>White Kiosk</th>\n",
       "      <td>5</td>\n",
       "      <td>2</td>\n",
       "      <td>9</td>\n",
       "      <td>4</td>\n",
       "      <td>9</td>\n",
       "    </tr>\n",
       "    <tr>\n",
       "      <th>Quarterage</th>\n",
       "      <td>5</td>\n",
       "      <td>8</td>\n",
       "      <td>8</td>\n",
       "      <td>3</td>\n",
       "      <td>4</td>\n",
       "    </tr>\n",
       "    <tr>\n",
       "      <th>Middle Yard</th>\n",
       "      <td>1</td>\n",
       "      <td>9</td>\n",
       "      <td>8</td>\n",
       "      <td>6</td>\n",
       "      <td>5</td>\n",
       "    </tr>\n",
       "  </tbody>\n",
       "</table>\n",
       "</div>"
      ],
      "text/plain": [
       "             Venus  Minerva  Neptunus  Mars  Ceres\n",
       "Tonoz            5        5         3     8      7\n",
       "White Kiosk      5        2         9     4      9\n",
       "Quarterage       5        8         8     3      4\n",
       "Middle Yard      1        9         8     6      5"
      ]
     },
     "execution_count": 3,
     "metadata": {},
     "output_type": "execute_result"
    }
   ],
   "source": [
    "CostFtoS"
   ]
  },
  {
   "cell_type": "code",
   "execution_count": 4,
   "metadata": {},
   "outputs": [
    {
     "data": {
      "text/html": [
       "<div>\n",
       "<style scoped>\n",
       "    .dataframe tbody tr th:only-of-type {\n",
       "        vertical-align: middle;\n",
       "    }\n",
       "\n",
       "    .dataframe tbody tr th {\n",
       "        vertical-align: top;\n",
       "    }\n",
       "\n",
       "    .dataframe thead th {\n",
       "        text-align: right;\n",
       "    }\n",
       "</style>\n",
       "<table border=\"1\" class=\"dataframe\">\n",
       "  <thead>\n",
       "    <tr style=\"text-align: right;\">\n",
       "      <th></th>\n",
       "      <th>Capacities</th>\n",
       "    </tr>\n",
       "  </thead>\n",
       "  <tbody>\n",
       "    <tr>\n",
       "      <th>Tonoz</th>\n",
       "      <td>3000</td>\n",
       "    </tr>\n",
       "    <tr>\n",
       "      <th>White Kiosk</th>\n",
       "      <td>5000</td>\n",
       "    </tr>\n",
       "    <tr>\n",
       "      <th>Quarterage</th>\n",
       "      <td>10000</td>\n",
       "    </tr>\n",
       "    <tr>\n",
       "      <th>Middle Yard</th>\n",
       "      <td>7000</td>\n",
       "    </tr>\n",
       "  </tbody>\n",
       "</table>\n",
       "</div>"
      ],
      "text/plain": [
       "             Capacities\n",
       "Tonoz              3000\n",
       "White Kiosk        5000\n",
       "Quarterage        10000\n",
       "Middle Yard        7000"
      ]
     },
     "execution_count": 4,
     "metadata": {},
     "output_type": "execute_result"
    }
   ],
   "source": [
    "\n",
    "whCaps = np.array([3, 5, 10, 7]) * 1000\n",
    "WareHouseCapacities = pd.DataFrame(whCaps.T, index=[\"Tonoz,White Kiosk,Quarterage,Middle Yard\".split(\",\")], columns=[\"Capacities\"])\n",
    "WareHouseCapacities"
   ]
  },
  {
   "cell_type": "code",
   "execution_count": 5,
   "metadata": {},
   "outputs": [
    {
     "data": {
      "text/html": [
       "<div>\n",
       "<style scoped>\n",
       "    .dataframe tbody tr th:only-of-type {\n",
       "        vertical-align: middle;\n",
       "    }\n",
       "\n",
       "    .dataframe tbody tr th {\n",
       "        vertical-align: top;\n",
       "    }\n",
       "\n",
       "    .dataframe thead th {\n",
       "        text-align: right;\n",
       "    }\n",
       "</style>\n",
       "<table border=\"1\" class=\"dataframe\">\n",
       "  <thead>\n",
       "    <tr style=\"text-align: right;\">\n",
       "      <th></th>\n",
       "      <th>Demands</th>\n",
       "    </tr>\n",
       "  </thead>\n",
       "  <tbody>\n",
       "    <tr>\n",
       "      <th>Venus</th>\n",
       "      <td>5500</td>\n",
       "    </tr>\n",
       "    <tr>\n",
       "      <th>Minerva</th>\n",
       "      <td>4750</td>\n",
       "    </tr>\n",
       "    <tr>\n",
       "      <th>Neptunus</th>\n",
       "      <td>6550</td>\n",
       "    </tr>\n",
       "    <tr>\n",
       "      <th>Mars</th>\n",
       "      <td>4000</td>\n",
       "    </tr>\n",
       "    <tr>\n",
       "      <th>Ceres</th>\n",
       "      <td>4200</td>\n",
       "    </tr>\n",
       "  </tbody>\n",
       "</table>\n",
       "</div>"
      ],
      "text/plain": [
       "          Demands\n",
       "Venus        5500\n",
       "Minerva      4750\n",
       "Neptunus     6550\n",
       "Mars         4000\n",
       "Ceres        4200"
      ]
     },
     "execution_count": 5,
     "metadata": {},
     "output_type": "execute_result"
    }
   ],
   "source": [
    "storeDemands = pd.DataFrame(np.array([5500, 4750, 6550, 4000, 4200]).T, index=[\"Venus Minerva Neptunus Mars Ceres\".split(\" \")], columns=[\"Demands\"])\n",
    "storeDemands"
   ]
  },
  {
   "cell_type": "code",
   "execution_count": 6,
   "metadata": {},
   "outputs": [
    {
     "data": {
      "text/html": [
       "<div>\n",
       "<style scoped>\n",
       "    .dataframe tbody tr th:only-of-type {\n",
       "        vertical-align: middle;\n",
       "    }\n",
       "\n",
       "    .dataframe tbody tr th {\n",
       "        vertical-align: top;\n",
       "    }\n",
       "\n",
       "    .dataframe thead th {\n",
       "        text-align: right;\n",
       "    }\n",
       "</style>\n",
       "<table border=\"1\" class=\"dataframe\">\n",
       "  <thead>\n",
       "    <tr style=\"text-align: right;\">\n",
       "      <th></th>\n",
       "      <th>Venus</th>\n",
       "      <th>Minerva</th>\n",
       "      <th>Neptunus</th>\n",
       "      <th>Mars</th>\n",
       "      <th>Ceres</th>\n",
       "    </tr>\n",
       "  </thead>\n",
       "  <tbody>\n",
       "    <tr>\n",
       "      <th>Tonoz</th>\n",
       "      <td>5</td>\n",
       "      <td>5</td>\n",
       "      <td>3</td>\n",
       "      <td>8</td>\n",
       "      <td>7</td>\n",
       "    </tr>\n",
       "    <tr>\n",
       "      <th>White Kiosk</th>\n",
       "      <td>5</td>\n",
       "      <td>2</td>\n",
       "      <td>9</td>\n",
       "      <td>4</td>\n",
       "      <td>9</td>\n",
       "    </tr>\n",
       "    <tr>\n",
       "      <th>Quarterage</th>\n",
       "      <td>5</td>\n",
       "      <td>8</td>\n",
       "      <td>8</td>\n",
       "      <td>3</td>\n",
       "      <td>4</td>\n",
       "    </tr>\n",
       "    <tr>\n",
       "      <th>Middle Yard</th>\n",
       "      <td>1</td>\n",
       "      <td>9</td>\n",
       "      <td>8</td>\n",
       "      <td>6</td>\n",
       "      <td>5</td>\n",
       "    </tr>\n",
       "  </tbody>\n",
       "</table>\n",
       "</div>"
      ],
      "text/plain": [
       "             Venus  Minerva  Neptunus  Mars  Ceres\n",
       "Tonoz            5        5         3     8      7\n",
       "White Kiosk      5        2         9     4      9\n",
       "Quarterage       5        8         8     3      4\n",
       "Middle Yard      1        9         8     6      5"
      ]
     },
     "execution_count": 6,
     "metadata": {},
     "output_type": "execute_result"
    }
   ],
   "source": [
    "CostFtoD # Factory to Distribution Center\n",
    "CostDtoS # Distribution to Store\n",
    "CostFtoS # Factory to Store"
   ]
  },
  {
   "cell_type": "code",
   "execution_count": 7,
   "metadata": {},
   "outputs": [],
   "source": [
    "WareHouses = list(CostFtoS.index)\n",
    "Distributors = list(CostDtoS.index)\n",
    "Stores = list(CostDtoS.columns)"
   ]
  },
  {
   "cell_type": "markdown",
   "metadata": {},
   "source": [
    "# Model Construction"
   ]
  },
  {
   "cell_type": "code",
   "execution_count": 8,
   "metadata": {},
   "outputs": [],
   "source": [
    "problem = LpProblem(\"Assignment2-Distribution-Problem\", LpMinimize)"
   ]
  },
  {
   "cell_type": "code",
   "execution_count": 9,
   "metadata": {},
   "outputs": [],
   "source": [
    "X = LpVariable.dicts(\"x\",\n",
    "                     (WareHouses, Distributors),\n",
    "                     lowBound = 0,\n",
    "                     upBound = None,\n",
    "                     cat = const.LpInteger)\n",
    "\n",
    "Y = LpVariable.dicts(\"x\",\n",
    "                     (Distributors, Stores),\n",
    "                     lowBound = 0,\n",
    "                     upBound = None,\n",
    "                     cat = const.LpInteger)\n",
    "\n",
    "Z = LpVariable.dicts(\"x\",\n",
    "                     (WareHouses, Stores),\n",
    "                     lowBound = 0,\n",
    "                     upBound = None,\n",
    "                     cat = const.LpInteger)"
   ]
  },
  {
   "cell_type": "code",
   "execution_count": 10,
   "metadata": {},
   "outputs": [],
   "source": [
    "# Adding variables / since we use pd Dataframe, the first index must be the col\n",
    "# Thus, this makes the indexes go opposite sides\n",
    "# Warehouse and Distribution is the SAME THING\n",
    "\n",
    "problem_F_to_D = lpSum(CostFtoD[distributor][wareHouse] * X[wareHouse][distributor] \\\n",
    "    for distributor in Distributors for wareHouse in WareHouses)\n",
    "\n",
    "problem_D_to_S = lpSum(CostDtoS[store][distributor] * Y[distributor][store] \\\n",
    "                    for distributor in Distributors for store in Stores)\n",
    "\n",
    "problem_F_to_S = lpSum(CostFtoS[store][wareHouse] * Z[wareHouse][store] \\\n",
    "    for wareHouse in WareHouses for store in Stores)\n",
    "# objective function\n",
    "problem +=  problem_F_to_D + problem_D_to_S + problem_F_to_S"
   ]
  },
  {
   "cell_type": "code",
   "execution_count": 11,
   "metadata": {},
   "outputs": [
    {
     "name": "stdout",
     "output_type": "stream",
     "text": [
      "x_Middle_Yard_Atlas + 6*x_Middle_Yard_Azure + 9*x_Middle_Yard_Nebule + 2*x_Quarterage_Atlas + 4*x_Quarterage_Azure + 3*x_Quarterage_Nebule + 4*x_Tonoz_Atlas + 3*x_Tonoz_Azure + 9*x_Tonoz_Nebule + 2*x_White_Kiosk_Atlas + 3*x_White_Kiosk_Azure + 8*x_White_Kiosk_Nebule\n",
      "             Atlas  Nebule  Azure\n",
      "Tonoz            4       9      3\n",
      "White Kiosk      2       8      3\n",
      "Quarterage       2       3      4\n",
      "Middle Yard      1       9      6\n"
     ]
    }
   ],
   "source": [
    "# checking the model translation condition\n",
    "print(str(problem_F_to_D))\n",
    "print(CostFtoD)\n"
   ]
  },
  {
   "cell_type": "markdown",
   "metadata": {},
   "source": [
    "#### They seem correct, the defined model and the pulp values are the same "
   ]
  },
  {
   "cell_type": "markdown",
   "metadata": {},
   "source": [
    "# Constraints"
   ]
  },
  {
   "cell_type": "code",
   "execution_count": 12,
   "metadata": {},
   "outputs": [],
   "source": [
    "for store in Stores:\n",
    "    # Factory -> Store + WareHouse -> Store >= Demands\n",
    "    problem += (lpSum(Y[distributor][store] for distributor in Distributors) + lpSum(Z[wareHouse][store] for wareHouse in WareHouses)) >= storeDemands[\"Demands\"][store]"
   ]
  },
  {
   "cell_type": "code",
   "execution_count": 13,
   "metadata": {},
   "outputs": [],
   "source": [
    "for wareHouse in WareHouses:\n",
    "    # WareHouse -> DistributionCenter + WareHouse -> Store <= Capacities\n",
    "    problem += (lpSum(X[wareHouse][distributor] for distributor in Distributors) + lpSum(Z[wareHouse][store] for store in Stores)) <= WareHouseCapacities[\"Capacities\"][wareHouse]"
   ]
  },
  {
   "cell_type": "code",
   "execution_count": 14,
   "metadata": {},
   "outputs": [],
   "source": [
    "for distributor in Distributors:\n",
    "    # for what the distributors take from the Warehouses, what it gives to the stores\n",
    "    # must be equal or greater so that they can provide the resources\n",
    "    problem += lpSum(X[wareHouse][distributor] for wareHouse in WareHouses) >= lpSum(Y[distributor][store] for store in Stores)"
   ]
  },
  {
   "cell_type": "code",
   "execution_count": 15,
   "metadata": {},
   "outputs": [
    {
     "data": {
      "text/plain": [
       "1"
      ]
     },
     "execution_count": 15,
     "metadata": {},
     "output_type": "execute_result"
    }
   ],
   "source": [
    "problem.solve()"
   ]
  },
  {
   "cell_type": "code",
   "execution_count": 16,
   "metadata": {},
   "outputs": [
    {
     "name": "stdout",
     "output_type": "stream",
     "text": [
      "The problem is  Optimal\n",
      "The objective function value is  72600.0\n",
      "x_Atlas_Neptunus = 3550.0\n",
      "x_Middle_Yard_Atlas = 1500.0\n",
      "x_Middle_Yard_Venus = 5500.0\n",
      "x_Quarterage_Atlas = 1800.0\n",
      "x_Quarterage_Ceres = 4200.0\n",
      "x_Quarterage_Mars = 4000.0\n",
      "x_Tonoz_Neptunus = 3000.0\n",
      "x_White_Kiosk_Atlas = 250.0\n",
      "x_White_Kiosk_Minerva = 4750.0\n"
     ]
    }
   ],
   "source": [
    "print(\"The problem is \", LpStatus[problem.status])\n",
    "print(\"The objective function value is \", value(problem.objective))\n",
    "for v in problem.variables():\n",
    "    if v.varValue > 0.1:\n",
    "        print(v.name, \"=\", v.varValue)"
   ]
  },
  {
   "cell_type": "code",
   "execution_count": 17,
   "metadata": {},
   "outputs": [
    {
     "name": "stdout",
     "output_type": "stream",
     "text": [
      "[x_Atlas_Ceres, x_Atlas_Mars, x_Atlas_Minerva, x_Atlas_Neptunus, x_Atlas_Venus, x_Azure_Ceres, x_Azure_Mars, x_Azure_Minerva, x_Azure_Neptunus, x_Azure_Venus, x_Middle_Yard_Atlas, x_Middle_Yard_Azure, x_Middle_Yard_Ceres, x_Middle_Yard_Mars, x_Middle_Yard_Minerva, x_Middle_Yard_Nebule, x_Middle_Yard_Neptunus, x_Middle_Yard_Venus, x_Nebule_Ceres, x_Nebule_Mars, x_Nebule_Minerva, x_Nebule_Neptunus, x_Nebule_Venus, x_Quarterage_Atlas, x_Quarterage_Azure, x_Quarterage_Ceres, x_Quarterage_Mars, x_Quarterage_Minerva, x_Quarterage_Nebule, x_Quarterage_Neptunus, x_Quarterage_Venus, x_Tonoz_Atlas, x_Tonoz_Azure, x_Tonoz_Ceres, x_Tonoz_Mars, x_Tonoz_Minerva, x_Tonoz_Nebule, x_Tonoz_Neptunus, x_Tonoz_Venus, x_White_Kiosk_Atlas, x_White_Kiosk_Azure, x_White_Kiosk_Ceres, x_White_Kiosk_Mars, x_White_Kiosk_Minerva, x_White_Kiosk_Nebule, x_White_Kiosk_Neptunus, x_White_Kiosk_Venus]\n"
     ]
    }
   ],
   "source": [
    "print(problem.variables())"
   ]
  },
  {
   "cell_type": "code",
   "execution_count": 18,
   "metadata": {},
   "outputs": [
    {
     "name": "stdout",
     "output_type": "stream",
     "text": [
      "Assignment2-Distribution-Problem:\n",
      "MINIMIZE\n",
      "2*x_Atlas_Ceres + 8*x_Atlas_Mars + 5*x_Atlas_Minerva + 4*x_Atlas_Neptunus + 4*x_Atlas_Venus + 9*x_Azure_Ceres + 10*x_Azure_Mars + 8*x_Azure_Minerva + 9*x_Azure_Neptunus + 2*x_Azure_Venus + 1*x_Middle_Yard_Atlas + 6*x_Middle_Yard_Azure + 5*x_Middle_Yard_Ceres + 6*x_Middle_Yard_Mars + 9*x_Middle_Yard_Minerva + 9*x_Middle_Yard_Nebule + 8*x_Middle_Yard_Neptunus + 1*x_Middle_Yard_Venus + 5*x_Nebule_Ceres + 7*x_Nebule_Mars + 1*x_Nebule_Minerva + 6*x_Nebule_Neptunus + 1*x_Nebule_Venus + 2*x_Quarterage_Atlas + 4*x_Quarterage_Azure + 4*x_Quarterage_Ceres + 3*x_Quarterage_Mars + 8*x_Quarterage_Minerva + 3*x_Quarterage_Nebule + 8*x_Quarterage_Neptunus + 5*x_Quarterage_Venus + 4*x_Tonoz_Atlas + 3*x_Tonoz_Azure + 7*x_Tonoz_Ceres + 8*x_Tonoz_Mars + 5*x_Tonoz_Minerva + 9*x_Tonoz_Nebule + 3*x_Tonoz_Neptunus + 5*x_Tonoz_Venus + 2*x_White_Kiosk_Atlas + 3*x_White_Kiosk_Azure + 9*x_White_Kiosk_Ceres + 4*x_White_Kiosk_Mars + 2*x_White_Kiosk_Minerva + 8*x_White_Kiosk_Nebule + 9*x_White_Kiosk_Neptunus + 5*x_White_Kiosk_Venus + 0\n",
      "SUBJECT TO\n",
      "_C1: x_Atlas_Venus + x_Azure_Venus + x_Middle_Yard_Venus + x_Nebule_Venus\n",
      " + x_Quarterage_Venus + x_Tonoz_Venus + x_White_Kiosk_Venus >= 5500\n",
      "\n",
      "_C2: x_Atlas_Minerva + x_Azure_Minerva + x_Middle_Yard_Minerva\n",
      " + x_Nebule_Minerva + x_Quarterage_Minerva + x_Tonoz_Minerva\n",
      " + x_White_Kiosk_Minerva >= 4750\n",
      "\n",
      "_C3: x_Atlas_Neptunus + x_Azure_Neptunus + x_Middle_Yard_Neptunus\n",
      " + x_Nebule_Neptunus + x_Quarterage_Neptunus + x_Tonoz_Neptunus\n",
      " + x_White_Kiosk_Neptunus >= 6550\n",
      "\n",
      "_C4: x_Atlas_Mars + x_Azure_Mars + x_Middle_Yard_Mars + x_Nebule_Mars\n",
      " + x_Quarterage_Mars + x_Tonoz_Mars + x_White_Kiosk_Mars >= 4000\n",
      "\n",
      "_C5: x_Atlas_Ceres + x_Azure_Ceres + x_Middle_Yard_Ceres + x_Nebule_Ceres\n",
      " + x_Quarterage_Ceres + x_Tonoz_Ceres + x_White_Kiosk_Ceres >= 4200\n",
      "\n",
      "_C6: x_Tonoz_Atlas + x_Tonoz_Azure + x_Tonoz_Ceres + x_Tonoz_Mars\n",
      " + x_Tonoz_Minerva + x_Tonoz_Nebule + x_Tonoz_Neptunus + x_Tonoz_Venus <= 3000\n",
      "\n",
      "_C7: x_White_Kiosk_Atlas + x_White_Kiosk_Azure + x_White_Kiosk_Ceres\n",
      " + x_White_Kiosk_Mars + x_White_Kiosk_Minerva + x_White_Kiosk_Nebule\n",
      " + x_White_Kiosk_Neptunus + x_White_Kiosk_Venus <= 5000\n",
      "\n",
      "_C8: x_Quarterage_Atlas + x_Quarterage_Azure + x_Quarterage_Ceres\n",
      " + x_Quarterage_Mars + x_Quarterage_Minerva + x_Quarterage_Nebule\n",
      " + x_Quarterage_Neptunus + x_Quarterage_Venus <= 10000\n",
      "\n",
      "_C9: x_Middle_Yard_Atlas + x_Middle_Yard_Azure + x_Middle_Yard_Ceres\n",
      " + x_Middle_Yard_Mars + x_Middle_Yard_Minerva + x_Middle_Yard_Nebule\n",
      " + x_Middle_Yard_Neptunus + x_Middle_Yard_Venus <= 7000\n",
      "\n",
      "_C10: - x_Atlas_Ceres - x_Atlas_Mars - x_Atlas_Minerva - x_Atlas_Neptunus\n",
      " - x_Atlas_Venus + x_Middle_Yard_Atlas + x_Quarterage_Atlas + x_Tonoz_Atlas\n",
      " + x_White_Kiosk_Atlas >= 0\n",
      "\n",
      "_C11: x_Middle_Yard_Nebule - x_Nebule_Ceres - x_Nebule_Mars - x_Nebule_Minerva\n",
      " - x_Nebule_Neptunus - x_Nebule_Venus + x_Quarterage_Nebule + x_Tonoz_Nebule\n",
      " + x_White_Kiosk_Nebule >= 0\n",
      "\n",
      "_C12: - x_Azure_Ceres - x_Azure_Mars - x_Azure_Minerva - x_Azure_Neptunus\n",
      " - x_Azure_Venus + x_Middle_Yard_Azure + x_Quarterage_Azure + x_Tonoz_Azure\n",
      " + x_White_Kiosk_Azure >= 0\n",
      "\n",
      "VARIABLES\n",
      "0 <= x_Atlas_Ceres Integer\n",
      "0 <= x_Atlas_Mars Integer\n",
      "0 <= x_Atlas_Minerva Integer\n",
      "0 <= x_Atlas_Neptunus Integer\n",
      "0 <= x_Atlas_Venus Integer\n",
      "0 <= x_Azure_Ceres Integer\n",
      "0 <= x_Azure_Mars Integer\n",
      "0 <= x_Azure_Minerva Integer\n",
      "0 <= x_Azure_Neptunus Integer\n",
      "0 <= x_Azure_Venus Integer\n",
      "0 <= x_Middle_Yard_Atlas Integer\n",
      "0 <= x_Middle_Yard_Azure Integer\n",
      "0 <= x_Middle_Yard_Ceres Integer\n",
      "0 <= x_Middle_Yard_Mars Integer\n",
      "0 <= x_Middle_Yard_Minerva Integer\n",
      "0 <= x_Middle_Yard_Nebule Integer\n",
      "0 <= x_Middle_Yard_Neptunus Integer\n",
      "0 <= x_Middle_Yard_Venus Integer\n",
      "0 <= x_Nebule_Ceres Integer\n",
      "0 <= x_Nebule_Mars Integer\n",
      "0 <= x_Nebule_Minerva Integer\n",
      "0 <= x_Nebule_Neptunus Integer\n",
      "0 <= x_Nebule_Venus Integer\n",
      "0 <= x_Quarterage_Atlas Integer\n",
      "0 <= x_Quarterage_Azure Integer\n",
      "0 <= x_Quarterage_Ceres Integer\n",
      "0 <= x_Quarterage_Mars Integer\n",
      "0 <= x_Quarterage_Minerva Integer\n",
      "0 <= x_Quarterage_Nebule Integer\n",
      "0 <= x_Quarterage_Neptunus Integer\n",
      "0 <= x_Quarterage_Venus Integer\n",
      "0 <= x_Tonoz_Atlas Integer\n",
      "0 <= x_Tonoz_Azure Integer\n",
      "0 <= x_Tonoz_Ceres Integer\n",
      "0 <= x_Tonoz_Mars Integer\n",
      "0 <= x_Tonoz_Minerva Integer\n",
      "0 <= x_Tonoz_Nebule Integer\n",
      "0 <= x_Tonoz_Neptunus Integer\n",
      "0 <= x_Tonoz_Venus Integer\n",
      "0 <= x_White_Kiosk_Atlas Integer\n",
      "0 <= x_White_Kiosk_Azure Integer\n",
      "0 <= x_White_Kiosk_Ceres Integer\n",
      "0 <= x_White_Kiosk_Mars Integer\n",
      "0 <= x_White_Kiosk_Minerva Integer\n",
      "0 <= x_White_Kiosk_Nebule Integer\n",
      "0 <= x_White_Kiosk_Neptunus Integer\n",
      "0 <= x_White_Kiosk_Venus Integer\n",
      "\n"
     ]
    }
   ],
   "source": [
    "print(problem)"
   ]
  },
  {
   "cell_type": "markdown",
   "metadata": {},
   "source": [
    "# Final Results"
   ]
  },
  {
   "cell_type": "markdown",
   "metadata": {},
   "source": [
    "### B) What is the value of objective function?"
   ]
  },
  {
   "cell_type": "code",
   "execution_count": 19,
   "metadata": {},
   "outputs": [
    {
     "name": "stdout",
     "output_type": "stream",
     "text": [
      "The value of the objective function:  72600.0\n"
     ]
    }
   ],
   "source": [
    "result_of_b = value(problem.objective)\n",
    "print(\"The value of the objective function: \", result_of_b)"
   ]
  },
  {
   "cell_type": "markdown",
   "metadata": {},
   "source": [
    "### c) What is the value of decision variables? According to this values, evaluate the supply chain and flow in this supply chain?"
   ]
  },
  {
   "cell_type": "code",
   "execution_count": 22,
   "metadata": {},
   "outputs": [
    {
     "name": "stdout",
     "output_type": "stream",
     "text": [
      "\n",
      " The NON-ZERO VARIABLE values are: \n",
      "x_Atlas_Neptunus: 3550.0\n",
      "x_Middle_Yard_Atlas: 1500.0\n",
      "x_Middle_Yard_Venus: 5500.0\n",
      "x_Quarterage_Atlas: 1800.0\n",
      "x_Quarterage_Ceres: 4200.0\n",
      "x_Quarterage_Mars: 4000.0\n",
      "x_Tonoz_Neptunus: 3000.0\n",
      "x_White_Kiosk_Atlas: 250.0\n",
      "x_White_Kiosk_Minerva: 4750.0\n",
      "\n",
      " THE ZERO VARIABLE values are: \n",
      "x_Atlas_Ceres: 0.0\n",
      "x_Atlas_Mars: 0.0\n",
      "x_Atlas_Minerva: 0.0\n",
      "x_Atlas_Venus: 0.0\n",
      "x_Azure_Ceres: 0.0\n",
      "x_Azure_Mars: 0.0\n",
      "x_Azure_Minerva: 0.0\n",
      "x_Azure_Neptunus: 0.0\n",
      "x_Azure_Venus: 0.0\n",
      "x_Middle_Yard_Azure: 0.0\n",
      "x_Middle_Yard_Ceres: 0.0\n",
      "x_Middle_Yard_Mars: 0.0\n",
      "x_Middle_Yard_Minerva: 0.0\n",
      "x_Middle_Yard_Nebule: 0.0\n",
      "x_Middle_Yard_Neptunus: 0.0\n",
      "x_Nebule_Ceres: 0.0\n",
      "x_Nebule_Mars: 0.0\n",
      "x_Nebule_Minerva: 0.0\n",
      "x_Nebule_Neptunus: 0.0\n",
      "x_Nebule_Venus: 0.0\n",
      "x_Quarterage_Azure: 0.0\n",
      "x_Quarterage_Minerva: 0.0\n",
      "x_Quarterage_Nebule: 0.0\n",
      "x_Quarterage_Neptunus: 0.0\n",
      "x_Quarterage_Venus: 0.0\n",
      "x_Tonoz_Atlas: 0.0\n",
      "x_Tonoz_Azure: 0.0\n",
      "x_Tonoz_Ceres: 0.0\n",
      "x_Tonoz_Mars: 0.0\n",
      "x_Tonoz_Minerva: 0.0\n",
      "x_Tonoz_Nebule: 0.0\n",
      "x_Tonoz_Venus: 0.0\n",
      "x_White_Kiosk_Azure: 0.0\n",
      "x_White_Kiosk_Ceres: 0.0\n",
      "x_White_Kiosk_Mars: 0.0\n",
      "x_White_Kiosk_Nebule: 0.0\n",
      "x_White_Kiosk_Neptunus: 0.0\n",
      "x_White_Kiosk_Venus: 0.0\n"
     ]
    }
   ],
   "source": [
    "print(\"\\n The NON-ZERO VARIABLE values are: \")\n",
    "print(*[f\"{v.name}: {v.varValue}\"  for v in problem.variables() if v.varValue != 0], sep=\"\\n\")\n",
    "print(\"\\n THE ZERO VARIABLE values are: \")\n",
    "print(*[f\"{v.name}: {v.varValue}\"  for v in problem.variables() if v.varValue == 0], sep=\"\\n\")"
   ]
  },
  {
   "cell_type": "markdown",
   "metadata": {},
   "source": [
    "### d) If we change the capacity of warehouse Quarterage from 10000 to 7500, and the demand of Ceres from 4200 to 1700, how do the objective value and the values of the decision variables change?"
   ]
  },
  {
   "cell_type": "code",
   "execution_count": 26,
   "metadata": {},
   "outputs": [],
   "source": [
    "import pandas as pd\n",
    "import numpy as np\n",
    "import math\n",
    "from pulp import LpVariable, LpProblem, LpMinimize, lpSum, const, LpStatus, value\n",
    "\n",
    "# the seed number should be your student ID. \n",
    "# If it has letter, please ignore it and use only numbers in the ID\n",
    "np.random.seed(1234) \n",
    "\n",
    "# Shipment cost from factory to distribution center\n",
    "RandomFtoD1 = np.round(np.random.uniform(low = 1, high = 10, size = 12),0).astype(int)\n",
    "RandomFtoD2 = np.reshape(RandomFtoD1, (4,3))\n",
    "CostFtoD = pd.DataFrame(RandomFtoD2, columns=['Atlas', 'Nebule',\"Azure\"], \n",
    "                        index=[\"Tonoz\",\"White Kiosk\",\"Quarterage\",\"Middle Yard\"])\n",
    "#CostFtoD # gives the shipment cost from factory to distribution center\n",
    "\n",
    "# Shipment cost from distribution center to store\n",
    "RandomDtoS1 = np.round(np.random.uniform(low = 1, high = 10, size = 15),0).astype(int)\n",
    "RandomDtoS2 = np.reshape(RandomDtoS1, (3,5))\n",
    "CostDtoS = pd.DataFrame(RandomDtoS2, columns=[\"Venus\", \"Minerva\", \"Neptunus\", \"Mars\", \"Ceres\"], \n",
    "                        index=['Atlas', 'Nebule',\"Azure\"])\n",
    "#CostDtoS # gives the shipment cost from distribution center to store\n",
    "\n",
    "# Shipment cost from factory to store\n",
    "RandomFtoS1 = np.round(np.random.uniform(low = 1, high = 10, size = 20),0).astype(int)\n",
    "RandomFtoS2 = np.reshape(RandomFtoS1, (4,5))\n",
    "CostFtoS = pd.DataFrame(RandomFtoS2, columns=[\"Venus\", \"Minerva\", \"Neptunus\", \"Mars\", \"Ceres\"],\n",
    "                        index=[\"Tonoz\",\"White Kiosk\",\"Quarterage\",\"Middle Yard\"])\n",
    "#CostFtoS # gives the shipment cost from distribution center to store\n",
    "\n",
    "# Your Required Information About Shipment Cost\n",
    "whCaps = np.array([3, 5, 7.5, 7]) * 1000\n",
    "WareHouseCapacities = pd.DataFrame(whCaps.T, index=[\"Tonoz,White Kiosk,Quarterage,Middle Yard\".split(\",\")], columns=[\"Capacities\"])\n",
    "storeDemands = pd.DataFrame(np.array([5500, 4750, 6550, 4000, 1700]).T, index=[\"Venus Minerva Neptunus Mars Ceres\".split(\" \")], columns=[\"Demands\"])\n",
    "\n",
    "WareHouses = list(CostFtoS.index)\n",
    "Distributors = list(CostDtoS.index)\n",
    "Stores = list(CostDtoS.columns)\n"
   ]
  },
  {
   "cell_type": "code",
   "execution_count": 27,
   "metadata": {},
   "outputs": [
    {
     "data": {
      "text/plain": [
       "1"
      ]
     },
     "execution_count": 27,
     "metadata": {},
     "output_type": "execute_result"
    }
   ],
   "source": [
    "\n",
    "problem_D = LpProblem(\"Assignment2-Distribution-Problem\", LpMinimize)\n",
    "\n",
    "X = LpVariable.dicts(\"x\",\n",
    "                     (WareHouses, Distributors),\n",
    "                     lowBound = 0,\n",
    "                     upBound = None,\n",
    "                     cat = const.LpInteger)\n",
    "\n",
    "Y = LpVariable.dicts(\"x\",\n",
    "                     (Distributors, Stores),\n",
    "                     lowBound = 0,\n",
    "                     upBound = None,\n",
    "                     cat = const.LpInteger)\n",
    "\n",
    "Z = LpVariable.dicts(\"x\",\n",
    "                     (WareHouses, Stores),\n",
    "                     lowBound = 0,\n",
    "                     upBound = None,\n",
    "                     cat = const.LpInteger)\n",
    "\n",
    "# Adding variables / since we use pd Dataframe, the first index must be the col\n",
    "# Thus, this makes the indexes go opposite sides\n",
    "# Warehouse and Distribution is the SAME THING\n",
    "\n",
    "problem_F_to_D = lpSum(CostFtoD[distributor][wareHouse] * X[wareHouse][distributor] \\\n",
    "    for distributor in Distributors for wareHouse in WareHouses)\n",
    "\n",
    "problem_D_to_S = lpSum(CostDtoS[store][distributor] * Y[distributor][store] \\\n",
    "                    for distributor in Distributors for store in Stores)\n",
    "\n",
    "problem_F_to_S = lpSum(CostFtoS[store][wareHouse] * Z[wareHouse][store] \\\n",
    "    for wareHouse in WareHouses for store in Stores)\n",
    "# objective function\n",
    "problem_D +=  problem_F_to_D + problem_D_to_S + problem_F_to_S\n",
    "\n",
    "for store in Stores:\n",
    "    # Factory -> Store + WareHouse -> Store >= Demands\n",
    "    problem_D += (lpSum(Y[distributor][store] for distributor in Distributors) + lpSum(Z[wareHouse][store] for wareHouse in WareHouses)) >= storeDemands[\"Demands\"][store]\n",
    "\n",
    "for wareHouse in WareHouses:\n",
    "    # WareHouse -> DistributionCenter + WareHouse -> Store <= Capacities\n",
    "    problem_D += (lpSum(X[wareHouse][distributor] for distributor in Distributors) + lpSum(Z[wareHouse][store] for store in Stores)) <= WareHouseCapacities[\"Capacities\"][wareHouse]\n",
    "\n",
    "for distributor in Distributors:\n",
    "    # for what the distributors take from the Warehouses, what it gives to the stores\n",
    "    # must be equal or greater so that they can provide the resources\n",
    "    problem_D += lpSum(X[wareHouse][distributor] for wareHouse in WareHouses) >= lpSum(Y[distributor][store] for store in Stores)\n",
    "    \n",
    "problem_D.solve()\n"
   ]
  },
  {
   "cell_type": "code",
   "execution_count": 28,
   "metadata": {},
   "outputs": [
    {
     "name": "stdout",
     "output_type": "stream",
     "text": [
      "The problem is  Optimal\n",
      "The objective function value is  62600.0\n",
      "x_Atlas_Neptunus = 3550.0\n",
      "x_Middle_Yard_Atlas = 1500.0\n",
      "x_Middle_Yard_Venus = 5500.0\n",
      "x_Quarterage_Atlas = 1800.0\n",
      "x_Quarterage_Ceres = 1700.0\n",
      "x_Quarterage_Mars = 4000.0\n",
      "x_Tonoz_Neptunus = 3000.0\n",
      "x_White_Kiosk_Atlas = 250.0\n",
      "x_White_Kiosk_Minerva = 4750.0\n"
     ]
    }
   ],
   "source": [
    "\n",
    "print(\"The problem is \", LpStatus[problem_D.status])\n",
    "print(\"The objective function value is \", value(problem_D.objective))\n",
    "for v in problem_D.variables():\n",
    "    if v.varValue > 0.1:\n",
    "        print(v.name, \"=\", v.varValue)"
   ]
  },
  {
   "cell_type": "markdown",
   "metadata": {},
   "source": [
    "### e) If we change the shipment cost from warehouse Tonoz to distribution center Atlas as 10 and Azure to Minerva as 5, how the objective function is affected. Give new objective value and number of shipments, and then explain your answer with few sentences."
   ]
  },
  {
   "cell_type": "code",
   "execution_count": 35,
   "metadata": {},
   "outputs": [
    {
     "name": "stdout",
     "output_type": "stream",
     "text": [
      "             Atlas  Nebule  Azure\n",
      "Tonoz           10       9      3\n",
      "White Kiosk      2       8      3\n",
      "Quarterage       2       3      4\n",
      "Middle Yard      1       9      6\n",
      "        Venus  Minerva  Neptunus  Mars  Ceres\n",
      "Atlas       4        5         4     8      2\n",
      "Nebule      1        1         6     7      5\n",
      "Azure       2        5         9    10      9\n"
     ]
    }
   ],
   "source": [
    "import pandas as pd\n",
    "import numpy as np\n",
    "import math\n",
    "from pulp import LpVariable, LpProblem, LpMinimize, lpSum, const, LpStatus, value\n",
    "\n",
    "# the seed number should be your student ID. \n",
    "# If it has letter, please ignore it and use only numbers in the ID\n",
    "np.random.seed(1234) \n",
    "\n",
    "# Shipment cost from factory to distribution center\n",
    "RandomFtoD1 = np.round(np.random.uniform(low = 1, high = 10, size = 12),0).astype(int)\n",
    "RandomFtoD2 = np.reshape(RandomFtoD1, (4,3))\n",
    "CostFtoD = pd.DataFrame(RandomFtoD2, columns=['Atlas', 'Nebule',\"Azure\"], \n",
    "                        index=[\"Tonoz\",\"White Kiosk\",\"Quarterage\",\"Middle Yard\"])\n",
    "#CostFtoD # gives the shipment cost from factory to distribution center\n",
    "CostFtoD[\"Atlas\"][\"Tonoz\"] = 10\n",
    "print(CostFtoD)\n",
    "# Shipment cost from distribution center to store\n",
    "RandomDtoS1 = np.round(np.random.uniform(low = 1, high = 10, size = 15),0).astype(int)\n",
    "RandomDtoS2 = np.reshape(RandomDtoS1, (3,5))\n",
    "CostDtoS = pd.DataFrame(RandomDtoS2, columns=[\"Venus\", \"Minerva\", \"Neptunus\", \"Mars\", \"Ceres\"], \n",
    "                        index=['Atlas', 'Nebule',\"Azure\"])\n",
    "#CostDtoS # gives the shipment cost from distribution center to store\n",
    "CostDtoS[\"Minerva\"][\"Azure\"] = 5\n",
    "print(CostDtoS)\n",
    "# Shipment cost from factory to store\n",
    "RandomFtoS1 = np.round(np.random.uniform(low = 1, high = 10, size = 20),0).astype(int)\n",
    "RandomFtoS2 = np.reshape(RandomFtoS1, (4,5))\n",
    "CostFtoS = pd.DataFrame(RandomFtoS2, columns=[\"Venus\", \"Minerva\", \"Neptunus\", \"Mars\", \"Ceres\"],\n",
    "                        index=[\"Tonoz\",\"White Kiosk\",\"Quarterage\",\"Middle Yard\"])\n",
    "#CostFtoS # gives the shipment cost from distribution center to store\n",
    "\n",
    "# Your Required Information About Shipment Cost\n",
    "whCaps = np.array([3, 5, 10, 7]) * 1000\n",
    "WareHouseCapacities = pd.DataFrame(whCaps.T, index=[\"Tonoz,White Kiosk,Quarterage,Middle Yard\".split(\",\")], columns=[\"Capacities\"])\n",
    "storeDemands = pd.DataFrame(np.array([5500, 4750, 6550, 4000, 4200]).T, index=[\"Venus Minerva Neptunus Mars Ceres\".split(\" \")], columns=[\"Demands\"])\n",
    "\n",
    "WareHouses = list(CostFtoS.index)\n",
    "Distributors = list(CostDtoS.index)\n",
    "Stores = list(CostDtoS.columns)\n"
   ]
  },
  {
   "cell_type": "code",
   "execution_count": 36,
   "metadata": {},
   "outputs": [
    {
     "data": {
      "text/plain": [
       "1"
      ]
     },
     "execution_count": 36,
     "metadata": {},
     "output_type": "execute_result"
    }
   ],
   "source": [
    "\n",
    "problem_E = LpProblem(\"Assignment2-Distribution-Problem\", LpMinimize)\n",
    "\n",
    "X = LpVariable.dicts(\"x\",\n",
    "                     (WareHouses, Distributors),\n",
    "                     lowBound = 0,\n",
    "                     upBound = None,\n",
    "                     cat = const.LpInteger)\n",
    "\n",
    "Y = LpVariable.dicts(\"x\",\n",
    "                     (Distributors, Stores),\n",
    "                     lowBound = 0,\n",
    "                     upBound = None,\n",
    "                     cat = const.LpInteger)\n",
    "\n",
    "Z = LpVariable.dicts(\"x\",\n",
    "                     (WareHouses, Stores),\n",
    "                     lowBound = 0,\n",
    "                     upBound = None,\n",
    "                     cat = const.LpInteger)\n",
    "\n",
    "# Adding variables / since we use pd Dataframe, the first index must be the col\n",
    "# Thus, this makes the indexes go opposite sides\n",
    "# Warehouse and Distribution is the SAME THING\n",
    "\n",
    "problem_F_to_D = lpSum(CostFtoD[distributor][wareHouse] * X[wareHouse][distributor] \\\n",
    "    for distributor in Distributors for wareHouse in WareHouses)\n",
    "\n",
    "problem_D_to_S = lpSum(CostDtoS[store][distributor] * Y[distributor][store] \\\n",
    "                    for distributor in Distributors for store in Stores)\n",
    "\n",
    "problem_F_to_S = lpSum(CostFtoS[store][wareHouse] * Z[wareHouse][store] \\\n",
    "    for wareHouse in WareHouses for store in Stores)\n",
    "# objective function\n",
    "problem_E +=  problem_F_to_D + problem_D_to_S + problem_F_to_S\n",
    "\n",
    "for store in Stores:\n",
    "    # Factory -> Store + WareHouse -> Store >= Demands\n",
    "    problem_E += (lpSum(Y[distributor][store] for distributor in Distributors) + lpSum(Z[wareHouse][store] for wareHouse in WareHouses)) >= storeDemands[\"Demands\"][store]\n",
    "\n",
    "for wareHouse in WareHouses:\n",
    "    # WareHouse -> DistributionCenter + WareHouse -> Store <= Capacities\n",
    "    problem_E += (lpSum(X[wareHouse][distributor] for distributor in Distributors) + lpSum(Z[wareHouse][store] for store in Stores)) <= WareHouseCapacities[\"Capacities\"][wareHouse]\n",
    "\n",
    "for distributor in Distributors:\n",
    "    # for what the distributors take from the Warehouses, what it gives to the stores\n",
    "    # must be equal or greater so that they can provide the resources\n",
    "    problem_E += lpSum(X[wareHouse][distributor] for wareHouse in WareHouses) >= lpSum(Y[distributor][store] for store in Stores)\n",
    "    \n",
    "problem_E.solve()\n"
   ]
  },
  {
   "cell_type": "code",
   "execution_count": 37,
   "metadata": {},
   "outputs": [
    {
     "name": "stdout",
     "output_type": "stream",
     "text": [
      "\n",
      "The problem is  Optimal\n",
      "The objective function value is  72600.0\n",
      "\n",
      "x_Atlas_Neptunus = 3550.0\n",
      "x_Middle_Yard_Atlas = 1500.0\n",
      "x_Middle_Yard_Venus = 5500.0\n",
      "x_Quarterage_Atlas = 1800.0\n",
      "x_Quarterage_Ceres = 4200.0\n",
      "x_Quarterage_Mars = 4000.0\n",
      "x_Tonoz_Neptunus = 3000.0\n",
      "x_White_Kiosk_Atlas = 250.0\n",
      "x_White_Kiosk_Minerva = 4750.0\n"
     ]
    }
   ],
   "source": [
    "print()\n",
    "print(\"The problem is \", LpStatus[problem_E.status])\n",
    "print(\"The objective function value is \", value(problem_E.objective))\n",
    "print()\n",
    "for v in problem_E.variables():\n",
    "    if v.varValue > 0.1:\n",
    "        print(v.name, \"=\", v.varValue)"
   ]
  },
  {
   "cell_type": "markdown",
   "metadata": {},
   "source": [
    "### f)  we change the capacity of the warehouse Middle Yard from 7000 to 5000, what should we expect? Can we obtain optimal solution? Please explain your conclusion clearly. If it is necessary make some arrangement and give the results with explanations."
   ]
  },
  {
   "cell_type": "code",
   "execution_count": 38,
   "metadata": {},
   "outputs": [],
   "source": [
    "import pandas as pd\n",
    "import numpy as np\n",
    "import math\n",
    "from pulp import LpVariable, LpProblem, LpMinimize, lpSum, const, LpStatus, value\n",
    "\n",
    "# the seed number should be your student ID. \n",
    "# If it has letter, please ignore it and use only numbers in the ID\n",
    "np.random.seed(1234) \n",
    "\n",
    "# Shipment cost from factory to distribution center\n",
    "RandomFtoD1 = np.round(np.random.uniform(low = 1, high = 10, size = 12),0).astype(int)\n",
    "RandomFtoD2 = np.reshape(RandomFtoD1, (4,3))\n",
    "CostFtoD = pd.DataFrame(RandomFtoD2, columns=['Atlas', 'Nebule',\"Azure\"], \n",
    "                        index=[\"Tonoz\",\"White Kiosk\",\"Quarterage\",\"Middle Yard\"])\n",
    "#CostFtoD # gives the shipment cost from factory to distribution center\n",
    "\n",
    "# Shipment cost from distribution center to store\n",
    "RandomDtoS1 = np.round(np.random.uniform(low = 1, high = 10, size = 15),0).astype(int)\n",
    "RandomDtoS2 = np.reshape(RandomDtoS1, (3,5))\n",
    "CostDtoS = pd.DataFrame(RandomDtoS2, columns=[\"Venus\", \"Minerva\", \"Neptunus\", \"Mars\", \"Ceres\"], \n",
    "                        index=['Atlas', 'Nebule',\"Azure\"])\n",
    "#CostDtoS # gives the shipment cost from distribution center to store\n",
    "\n",
    "# Shipment cost from factory to store\n",
    "RandomFtoS1 = np.round(np.random.uniform(low = 1, high = 10, size = 20),0).astype(int)\n",
    "RandomFtoS2 = np.reshape(RandomFtoS1, (4,5))\n",
    "CostFtoS = pd.DataFrame(RandomFtoS2, columns=[\"Venus\", \"Minerva\", \"Neptunus\", \"Mars\", \"Ceres\"],\n",
    "                        index=[\"Tonoz\",\"White Kiosk\",\"Quarterage\",\"Middle Yard\"])\n",
    "#CostFtoS # gives the shipment cost from distribution center to store\n",
    "\n",
    "# Your Required Information About Shipment Cost\n",
    "whCaps = np.array([3, 5, 10, 5]) * 1000\n",
    "WareHouseCapacities = pd.DataFrame(whCaps.T, index=[\"Tonoz,White Kiosk,Quarterage,Middle Yard\".split(\",\")], columns=[\"Capacities\"])\n",
    "storeDemands = pd.DataFrame(np.array([5500, 4750, 6550, 4000, 4200]).T, index=[\"Venus Minerva Neptunus Mars Ceres\".split(\" \")], columns=[\"Demands\"])\n",
    "\n",
    "WareHouses = list(CostFtoS.index)\n",
    "Distributors = list(CostDtoS.index)\n",
    "Stores = list(CostDtoS.columns)\n"
   ]
  },
  {
   "cell_type": "code",
   "execution_count": 39,
   "metadata": {},
   "outputs": [
    {
     "data": {
      "text/plain": [
       "-1"
      ]
     },
     "execution_count": 39,
     "metadata": {},
     "output_type": "execute_result"
    }
   ],
   "source": [
    "\n",
    "problem_F = LpProblem(\"Assignment2-Distribution-Problem\", LpMinimize)\n",
    "\n",
    "X = LpVariable.dicts(\"x\",\n",
    "                     (WareHouses, Distributors),\n",
    "                     lowBound = 0,\n",
    "                     upBound = None,\n",
    "                     cat = const.LpInteger)\n",
    "\n",
    "Y = LpVariable.dicts(\"x\",\n",
    "                     (Distributors, Stores),\n",
    "                     lowBound = 0,\n",
    "                     upBound = None,\n",
    "                     cat = const.LpInteger)\n",
    "\n",
    "Z = LpVariable.dicts(\"x\",\n",
    "                     (WareHouses, Stores),\n",
    "                     lowBound = 0,\n",
    "                     upBound = None,\n",
    "                     cat = const.LpInteger)\n",
    "\n",
    "# Adding variables / since we use pd Dataframe, the first index must be the col\n",
    "# Thus, this makes the indexes go opposite sides\n",
    "# Warehouse and Distribution is the SAME THING\n",
    "\n",
    "problem_F_to_D = lpSum(CostFtoD[distributor][wareHouse] * X[wareHouse][distributor] \\\n",
    "    for distributor in Distributors for wareHouse in WareHouses)\n",
    "\n",
    "problem_D_to_S = lpSum(CostDtoS[store][distributor] * Y[distributor][store] \\\n",
    "                    for distributor in Distributors for store in Stores)\n",
    "\n",
    "problem_F_to_S = lpSum(CostFtoS[store][wareHouse] * Z[wareHouse][store] \\\n",
    "    for wareHouse in WareHouses for store in Stores)\n",
    "# objective function\n",
    "problem_F +=  problem_F_to_D + problem_D_to_S + problem_F_to_S\n",
    "\n",
    "for store in Stores:\n",
    "    # Factory -> Store + WareHouse -> Store >= Demands\n",
    "    problem_F += (lpSum(Y[distributor][store] for distributor in Distributors) + lpSum(Z[wareHouse][store] for wareHouse in WareHouses)) >= storeDemands[\"Demands\"][store]\n",
    "\n",
    "for wareHouse in WareHouses:\n",
    "    # WareHouse -> DistributionCenter + WareHouse -> Store <= Capacities\n",
    "    problem_F += (lpSum(X[wareHouse][distributor] for distributor in Distributors) + lpSum(Z[wareHouse][store] for store in Stores)) <= WareHouseCapacities[\"Capacities\"][wareHouse]\n",
    "\n",
    "for distributor in Distributors:\n",
    "    # for what the distributors take from the Warehouses, what it gives to the stores\n",
    "    # must be equal or greater so that they can provide the resources\n",
    "    problem_F += lpSum(X[wareHouse][distributor] for wareHouse in WareHouses) >= lpSum(Y[distributor][store] for store in Stores)\n",
    "    \n",
    "problem_F.solve()\n"
   ]
  },
  {
   "cell_type": "code",
   "execution_count": 40,
   "metadata": {},
   "outputs": [
    {
     "name": "stdout",
     "output_type": "stream",
     "text": [
      "The problem is  Infeasible\n",
      "The objective function value is  74600.0\n",
      "\n",
      "x_Atlas_Neptunus = 3550.0\n",
      "x_Azure_Venus = 2000.0\n",
      "x_Middle_Yard_Atlas = 1500.0\n",
      "x_Middle_Yard_Venus = 3500.0\n",
      "x_Quarterage_Atlas = 1800.0\n",
      "x_Quarterage_Ceres = 4200.0\n",
      "x_Quarterage_Mars = 4000.0\n",
      "x_Tonoz_Neptunus = 3000.0\n",
      "x_White_Kiosk_Atlas = 250.0\n",
      "x_White_Kiosk_Minerva = 4750.0\n"
     ]
    }
   ],
   "source": [
    "\n",
    "print(\"The problem is \", LpStatus[problem_F.status])\n",
    "print(\"The objective function value is \", value(problem_F.objective))\n",
    "print()\n",
    "for v in problem_F.variables():\n",
    "    if v.varValue > 0.1:\n",
    "        print(v.name, \"=\", v.varValue)"
   ]
  },
  {
   "cell_type": "code",
   "execution_count": null,
   "metadata": {},
   "outputs": [],
   "source": []
  }
 ],
 "metadata": {
  "interpreter": {
   "hash": "db79c7ebe05a00641ad4f933fb3d02cf5d123093916f2ed6442b5534173404e1"
  },
  "kernelspec": {
   "display_name": "Python 3.6.15 ('t3')",
   "language": "python",
   "name": "python3"
  },
  "language_info": {
   "codemirror_mode": {
    "name": "ipython",
    "version": 3
   },
   "file_extension": ".py",
   "mimetype": "text/x-python",
   "name": "python",
   "nbconvert_exporter": "python",
   "pygments_lexer": "ipython3",
   "version": "3.6.15"
  }
 },
 "nbformat": 4,
 "nbformat_minor": 4
}
