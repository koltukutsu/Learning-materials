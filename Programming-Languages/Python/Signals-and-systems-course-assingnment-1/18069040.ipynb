{
 "cells": [
  {
   "cell_type": "markdown",
   "metadata": {},
   "source": [
    "# YAPTIĞIM ÇIKARIMLAR"
   ]
  },
  {
   "cell_type": "markdown",
   "metadata": {},
   "source": [
    "Builtin 'wave' kütüphanesiyle okunan değerler amplitude yani genliği ifade ediyor. Amplitude yani genlik ne kadar yükselir ise ses o minvalde daha gürültülü oluyor, tam tersi genliğin değeri ne kadar azalır ise de ses o kadar yumuşuyor.\n",
    "Yapılan convolution işlemi sonucu elimdeki 5snlik ve 10snlik ses dizilerinin değerlerinin pozitif olarak ve aynı zamanda da negatif olarak arttığını gördüm, burada her pozitif değer tam anlamıyla artmayabilir ve negatif değer azalmayabilir. Bunun sebebi de convolution işleminde kullandığım dizinin değerlerinin 0'da 1, 400'de .4 ve 800'de .4 olmasından ötürü, ses dizilerinin değerlerinin farklı pozisyonlarda farklı değerlere sahip olmasıdır. Söz gelimi (1 * 150) + (.4 * -120) + (.4 * -100) gibi durumlar ile karşılaşilabilir ve değerler her zaman pozitif olarak artmayabilir veyahut negatif olarak azalmayabilir.\n",
    "\n",
    "    Convolution işlemi sonucu elde edilen degerlerdeki negatif ve pozitif değer oranları neredeyse aynı, fakat convolution işlemi elimdeki dizinin eleman sayısını arttırdığı için negatif/pozitif oranı bir nebze bozuluyor.\n",
    "\n",
    "Elimdeki 5sn ve 10snlik dizilerin genlikleri arttığı için ses daha pozitif yerlerde daha GURULTULU ve negatif oldugu yerlerde daha YUMUSAK çıkıyor fakat genel olarak GÜRÜLTÜnün yani genliğin artmasından dolayı rahatsız edici bir ses oluştuğu için YUMUSAK olmuş olan sesler arada algılanamıyor. \n",
    "\n",
    "### Sonuç Olarak\n",
    "<b> Yaptığım convolution işlemi elimdeki sesleri duyumsal açıdan daha gürültülü bir hale getirmiştir. </b>"
   ]
  },
  {
   "cell_type": "markdown",
   "metadata": {},
   "source": [
    "<i>Ek açıklamalar ve gösterimler aşağıda mevcuttur.</i>"
   ]
  },
  {
   "cell_type": "code",
   "execution_count": 43,
   "metadata": {},
   "outputs": [
    {
     "ename": "SyntaxError",
     "evalue": "invalid syntax (<ipython-input-43-4a584aad7a24>, line 1)",
     "output_type": "error",
     "traceback": [
      "\u001b[0;36m  File \u001b[0;32m\"<ipython-input-43-4a584aad7a24>\"\u001b[0;36m, line \u001b[0;32m1\u001b[0m\n\u001b[0;31m    from 18069040 import myconv\u001b[0m\n\u001b[0m         ^\u001b[0m\n\u001b[0;31mSyntaxError\u001b[0m\u001b[0;31m:\u001b[0m invalid syntax\n"
     ]
    }
   ],
   "source": [
    "from convolution import myconv\n",
    "import wave\n",
    "import numpy as np\n",
    "## Open the sounds\n",
    "with wave.open(\"5snlik.wav\", \"r\") as sn_5:\n",
    "    data_sn5 = np.frombuffer(sn_5.readframes(-1), np.int16)\n",
    "    fs = sn_5.getframerate()\n",
    "with wave.open(\"10snlik.wav\", \"r\") as sn_10:\n",
    "        data_sn10 = np.frombuffer(sn_10.readframes(-1), np.int16) \n",
    "    \n",
    "data_sn5.shape = -1, 2\n",
    "data_sn5 = data_sn5.T\n",
    "data_sn5_first_channel = data_sn5[0]\n",
    "\n",
    "data_sn10.shape = -1, 2\n",
    "data_sn10 = data_sn10.T\n",
    "data_sn10_first_channel = data_sn10[0]"
   ]
  },
  {
   "cell_type": "code",
   "execution_count": 28,
   "metadata": {},
   "outputs": [
    {
     "data": {
      "text/plain": [
       "array([179, 184, 162, ..., 182, 175, 145], dtype=int16)"
      ]
     },
     "execution_count": 28,
     "metadata": {},
     "output_type": "execute_result"
    }
   ],
   "source": [
    "data_sn5_first_channel"
   ]
  },
  {
   "cell_type": "code",
   "execution_count": 29,
   "metadata": {},
   "outputs": [
    {
     "data": {
      "text/plain": [
       "array([130, 130,  92, ..., 135, 118, 136], dtype=int16)"
      ]
     },
     "execution_count": 29,
     "metadata": {},
     "output_type": "execute_result"
    }
   ],
   "source": [
    "data_sn10_first_channel"
   ]
  },
  {
   "cell_type": "code",
   "execution_count": 30,
   "metadata": {},
   "outputs": [],
   "source": [
    "Y_function = np.array([1])\n",
    "Y_function = np.append(Y_function, np.zeros((398)))\n",
    "Y_function = np.append(Y_function, 0.4)\n",
    "Y_function = np.append(Y_function, np.zeros(399))\n",
    "Y_function = np.append(Y_function, 0.4)\n",
    "My_Y1, _ = myconv(data_sn5_first_channel, 0, Y_function, 0)\n",
    "Y1 = np.convolve(data_sn5_first_channel, Y_function)\n",
    "My_Y2, _ = myconv(data_sn10_first_channel, 0, Y_function, 0)\n",
    "Y2 = np.convolve(data_sn10_first_channel, Y_function)"
   ]
  },
  {
   "cell_type": "code",
   "execution_count": 31,
   "metadata": {},
   "outputs": [],
   "source": [
    "My_Y2, _ = myconv(data_sn10_first_channel, 0, Y_function, 0)"
   ]
  },
  {
   "cell_type": "code",
   "execution_count": 32,
   "metadata": {},
   "outputs": [],
   "source": [
    "Y2 = np.convolve(data_sn10_first_channel, Y_function)"
   ]
  },
  {
   "cell_type": "markdown",
   "metadata": {},
   "source": [
    "## 5snlik Kayit Analizi"
   ]
  },
  {
   "cell_type": "code",
   "execution_count": 33,
   "metadata": {},
   "outputs": [
    {
     "data": {
      "text/plain": [
       "array([179. , 184. , 162. , ...,  72.8,  70. ,  58. ])"
      ]
     },
     "execution_count": 33,
     "metadata": {},
     "output_type": "execute_result"
    }
   ],
   "source": [
    "My_Y1"
   ]
  },
  {
   "cell_type": "code",
   "execution_count": 34,
   "metadata": {},
   "outputs": [
    {
     "data": {
      "text/plain": [
       "array([179. , 184. , 162. , ...,  72.8,  70. ,  58. ])"
      ]
     },
     "execution_count": 34,
     "metadata": {},
     "output_type": "execute_result"
    }
   ],
   "source": [
    "Y1"
   ]
  },
  {
   "cell_type": "code",
   "execution_count": 35,
   "metadata": {},
   "outputs": [
    {
     "name": "stdout",
     "output_type": "stream",
     "text": [
      "myconv fonksiyonundan elde ettigim arrayin uzunlugu: 221299\n",
      "numpy.convolve fonksiyonundan elde ettigim arrayin uzunlugu: 221299\n",
      "myconv ve numpy.convolve sonuclari ayni mi:  True\n"
     ]
    }
   ],
   "source": [
    "print(\"myconv fonksiyonundan elde ettigim arrayin uzunlugu:\", len(My_Y1))\n",
    "print(\"numpy.convolve fonksiyonundan elde ettigim arrayin uzunlugu:\", len(Y1))\n",
    "print(\"myconv ve numpy.convolve sonuclari ayni mi: \", any(My_Y1 == Y1))"
   ]
  },
  {
   "cell_type": "code",
   "execution_count": 36,
   "metadata": {},
   "outputs": [
    {
     "name": "stdout",
     "output_type": "stream",
     "text": [
      "'Max' deger normal 5snlik kayit: 1920\n",
      "'Min' deger normal 5snlik kayit: -1498\n",
      "'Ortalama' deger normal 5snlik kayit 141.45156916099774\n",
      "'Max' deger convolution 5snlik kayit: 2352.2000000000003\n",
      "'Min' deger convolution 5nslik kayit: -1770.0\n",
      "'Ortalama' deger normal 5snlik kayit 253.6935449324217\n"
     ]
    }
   ],
   "source": [
    "print(\"'Max' deger normal 5snlik kayit:\", max(data_sn5_first_channel))\n",
    "print(\"'Min' deger normal 5snlik kayit:\", min(data_sn5_first_channel))\n",
    "print(\"'Ortalama' deger normal 5snlik kayit\", np.average(data_sn5_first_channel))\n",
    "print(\"'Max' deger convolution 5snlik kayit:\", max(Y1))\n",
    "print(\"'Min' deger convolution 5nslik kayit:\", min(Y1))\n",
    "print(\"'Ortalama' deger normal 5snlik kayit\",np.average(Y1))"
   ]
  },
  {
   "cell_type": "code",
   "execution_count": 37,
   "metadata": {},
   "outputs": [
    {
     "name": "stdout",
     "output_type": "stream",
     "text": [
      "normal 5snlik dizide '220372' kadar negatif deger, 220500 kadar da pozitif deger mevcut.\n",
      "convolion uygulanan 5snlik dizide '221289' kadar negatif deger, 221299 kadar da pozitif deger mevcut.\n",
      "Normal dizi oran: 0.9994195011337869, \n",
      "Convolution islemi yapilan array icin oran: 0.9999548122675656\n",
      "Oranlar ayni mi: False\n"
     ]
    }
   ],
   "source": [
    "count = 0\n",
    "count2 = 0\n",
    "for item in data_sn5_first_channel:\n",
    "    if item != -item:\n",
    "        count += 1\n",
    "for item in Y1:\n",
    "    if item != -item:\n",
    "        count2 += 1\n",
    "        \n",
    "print(f\"normal 5snlik dizide '{count}' kadar negatif deger, {len(data_sn5_first_channel - count)} kadar da pozitif deger mevcut.\")\n",
    "print(f\"convolion uygulanan 5snlik dizide '{count2}' kadar negatif deger, {len(Y1 - count2)} kadar da pozitif deger mevcut.\")\n",
    "print(f\"Normal dizi oran: {count / (len(data_sn5_first_channel - count))}, \\nConvolution islemi yapilan array icin oran: {count2 / (len(Y1 - count2))}\")\n",
    "print(\"Oranlar ayni mi: {}\".format(count / (len(data_sn5_first_channel - count)) == count2 / (len(Y1 - count2))))"
   ]
  },
  {
   "cell_type": "markdown",
   "metadata": {},
   "source": [
    "## 10snlik Kayit Analizi"
   ]
  },
  {
   "cell_type": "code",
   "execution_count": 38,
   "metadata": {},
   "outputs": [
    {
     "data": {
      "text/plain": [
       "array([130. , 130. ,  92. , ...,  54. ,  47.2,  54.4])"
      ]
     },
     "execution_count": 38,
     "metadata": {},
     "output_type": "execute_result"
    }
   ],
   "source": [
    "My_Y2"
   ]
  },
  {
   "cell_type": "code",
   "execution_count": 39,
   "metadata": {},
   "outputs": [
    {
     "data": {
      "text/plain": [
       "array([130. , 130. ,  92. , ...,  54. ,  47.2,  54.4])"
      ]
     },
     "execution_count": 39,
     "metadata": {},
     "output_type": "execute_result"
    }
   ],
   "source": [
    "Y2"
   ]
  },
  {
   "cell_type": "code",
   "execution_count": 40,
   "metadata": {},
   "outputs": [
    {
     "name": "stdout",
     "output_type": "stream",
     "text": [
      "myconv fonksiyonundan elde ettigim arrayin uzunlugu: 441799\n",
      "numpy.convolve fonksiyonundan elde ettigim arrayin uzunlugu: 441799\n",
      "myconv ve numpy.convolve sonuclari ayni mi:  True\n"
     ]
    }
   ],
   "source": [
    "print(\"myconv fonksiyonundan elde ettigim arrayin uzunlugu:\", len(My_Y2))\n",
    "print(\"numpy.convolve fonksiyonundan elde ettigim arrayin uzunlugu:\", len(Y2))\n",
    "print(\"myconv ve numpy.convolve sonuclari ayni mi: \", any(My_Y2 == Y2))"
   ]
  },
  {
   "cell_type": "code",
   "execution_count": 41,
   "metadata": {},
   "outputs": [
    {
     "name": "stdout",
     "output_type": "stream",
     "text": [
      "'Max' deger normal 5snlik kayit: 6086\n",
      "'Min' deger normal 5snlik kayit: -5289\n",
      "'Ortalama' deger normal 10snlik kayit 139.94345124716554\n",
      "'Max' deger convolution 10snlik kayit: 6125.2\n",
      "'Min' deger convolution 10nslik kayit: -6207.6\n",
      "'Ortalama' deger normal 10snlik kayit 251.4426506171359\n"
     ]
    }
   ],
   "source": [
    "print(\"'Max' deger normal 5snlik kayit:\", max(data_sn10_first_channel))\n",
    "print(\"'Min' deger normal 5snlik kayit:\", min(data_sn10_first_channel))\n",
    "print(\"'Ortalama' deger normal 10snlik kayit\", np.average(data_sn10_first_channel))\n",
    "print(\"'Max' deger convolution 10snlik kayit:\", max(Y2))\n",
    "print(\"'Min' deger convolution 10nslik kayit:\", min(Y2))\n",
    "print(\"'Ortalama' deger normal 10snlik kayit\",np.average(Y2))"
   ]
  },
  {
   "cell_type": "code",
   "execution_count": 42,
   "metadata": {},
   "outputs": [
    {
     "name": "stdout",
     "output_type": "stream",
     "text": [
      "normal 5snlik dizide '440501' kadar negatif deger, 441000 kadar da pozitif deger mevcut.\n",
      "convolion uygulanan 5snlik dizide '441746' kadar negatif deger, 441799 kadar da pozitif deger mevcut.\n",
      "Normal dizi oran: 0.9988684807256236, \n",
      "Convolution islemi yapilan array icin oran: 1.9961500051965892\n",
      "Oranlar ayni mi: False\n"
     ]
    }
   ],
   "source": [
    "count = 0\n",
    "count2 = 0\n",
    "for item in data_sn10_first_channel:\n",
    "    if item != -item:\n",
    "        count += 1\n",
    "for item in Y2:\n",
    "    if item != -item:\n",
    "        count2 += 1\n",
    "        \n",
    "print(f\"normal 5snlik dizide '{count}' kadar negatif deger, {len(data_sn10_first_channel - count)} kadar da pozitif deger mevcut.\")\n",
    "print(f\"convolion uygulanan 5snlik dizide '{count2}' kadar negatif deger, {len(Y2 - count2)} kadar da pozitif deger mevcut.\")\n",
    "print(f\"Normal dizi oran: {count / (len(data_sn10_first_channel - count))}, \\nConvolution islemi yapilan array icin oran: {count2 / (len(Y1 - count2))}\")\n",
    "print(\"Oranlar ayni mi: {}\".format(count / (len(data_sn10_first_channel - count)) == count2 / (len(Y2 - count2))))"
   ]
  }
 ],
 "metadata": {
  "interpreter": {
   "hash": "ced497bd1ccbe8822a006414043b9a9a21fc7d604697716f92014303a50b3ba8"
  },
  "kernelspec": {
   "display_name": "Python 3.8.10 64-bit ('QT': venv)",
   "language": "python",
   "name": "python3"
  },
  "language_info": {
   "codemirror_mode": {
    "name": "ipython",
    "version": 3
   },
   "file_extension": ".py",
   "mimetype": "text/x-python",
   "name": "python",
   "nbconvert_exporter": "python",
   "pygments_lexer": "ipython3",
   "version": "3.8.10"
  },
  "orig_nbformat": 4
 },
 "nbformat": 4,
 "nbformat_minor": 2
}
